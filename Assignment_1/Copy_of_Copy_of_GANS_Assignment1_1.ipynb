{
  "nbformat": 4,
  "nbformat_minor": 0,
  "metadata": {
    "colab": {
      "provenance": []
    },
    "kernelspec": {
      "name": "python3",
      "display_name": "Python 3"
    },
    "language_info": {
      "name": "python"
    }
  },
  "cells": [
    {
      "cell_type": "markdown",
      "source": [
        "Instructions for the assignment\n",
        "\n",
        "\n",
        "*   Fill the codeblocks according to the comments given\n",
        "*   Hints are given wherever required\n",
        "*   Please note that copying will not be tolerated, and appropriate action will be taken if we suspect any misconduct.\n",
        "*   You're welcome to utilize any online resources in case you feel stuck anywhere :-)\n",
        "\n",
        "\n",
        "\n",
        "\n",
        "\n",
        "\n",
        "\n"
      ],
      "metadata": {
        "id": "kIAcUXNYVeGR"
      }
    },
    {
      "cell_type": "markdown",
      "source": [
        "# Section A *(2 Marks each)*"
      ],
      "metadata": {
        "id": "UhXvUdK6Stt_"
      }
    },
    {
      "cell_type": "markdown",
      "source": [
        "## NumPy (Numerical Python)\n",
        "**bold text**\n",
        "### Multidimensional array object\n",
        "- Array is a grid of homogeneous elements which can be indexed in various ways \n",
        "- Different from Python list which can store different data types\n",
        "- NumPy stores multidimensional arrays as an instance of **ndarray** \n",
        "\n"
      ],
      "metadata": {
        "id": "oc77CrhjAGlR"
      }
    },
    {
      "cell_type": "code",
      "source": [
        "import numpy as np"
      ],
      "metadata": {
        "id": "WGtRigfyBpgb"
      },
      "execution_count": null,
      "outputs": []
    },
    {
      "cell_type": "code",
      "execution_count": null,
      "metadata": {
        "id": "UR9ftRnU8_lu",
        "colab": {
          "base_uri": "https://localhost:8080/"
        },
        "outputId": "b08bce2e-7c86-443d-a0c2-d89f9f63d15e"
      },
      "outputs": [
        {
          "output_type": "execute_result",
          "data": {
            "text/plain": [
              "array([[0, 1, 2],\n",
              "       [3, 4, 5],\n",
              "       [6, 7, 8]])"
            ]
          },
          "metadata": {},
          "execution_count": 7
        }
      ],
      "source": [
        "# Python list to initialize a one dimensional NumPy array of numbers 1 to 5 and then print it \n",
        "arr = np.arange(1,6)\n",
        "arr\n",
        "# Python list to initialize a two dimensional NumPy array of shape [3,3] and then print it \n",
        "arr1 = np.arange(9).reshape(3,3)\n",
        "arr1"
      ]
    },
    {
      "cell_type": "code",
      "source": [
        "\n",
        "arr2=np.random.rand(12).reshape(3,4)\n",
        "arr3=np.zeros(12).reshape(3,4)\n",
        "arr4=np.ones(12).reshape(3,4)\n",
        "print(arr2)\n",
        "print(arr3)\n",
        "print(arr4)\n"
      ],
      "metadata": {
        "id": "WZf-M7KnBkhu",
        "colab": {
          "base_uri": "https://localhost:8080/"
        },
        "outputId": "c9ef7b04-8a03-4eb8-80c4-b5d59c622022"
      },
      "execution_count": null,
      "outputs": [
        {
          "output_type": "stream",
          "name": "stdout",
          "text": [
            "[[0.44664952 0.24492037 0.7022077  0.94345155]\n",
            " [0.454394   0.50669913 0.92044008 0.91524625]\n",
            " [0.00496768 0.25119384 0.11380817 0.67402   ]]\n",
            "[[0. 0. 0. 0.]\n",
            " [0. 0. 0. 0.]\n",
            " [0. 0. 0. 0.]]\n",
            "[[1. 1. 1. 1.]\n",
            " [1. 1. 1. 1.]\n",
            " [1. 1. 1. 1.]]\n"
          ]
        }
      ]
    },
    {
      "cell_type": "code",
      "source": [
        "a=np.arange(10,21,2)\n",
        "print(a)\n",
        "# Hint : Use np.arange or np.linspace"
      ],
      "metadata": {
        "id": "Uagv5WtWBknb",
        "colab": {
          "base_uri": "https://localhost:8080/"
        },
        "outputId": "70b1af50-e69e-41b3-ac1d-53c424457249"
      },
      "execution_count": null,
      "outputs": [
        {
          "output_type": "stream",
          "name": "stdout",
          "text": [
            "[10 12 14 16 18 20]\n"
          ]
        }
      ]
    },
    {
      "cell_type": "markdown",
      "source": [
        "### Basic array operations\n",
        "- algebraic operations \n",
        "- logical operations"
      ],
      "metadata": {
        "id": "dFeKiGA5CNXx"
      }
    },
    {
      "cell_type": "code",
      "source": [
        "a = np.array([[-4,6,8], [9, 3, 1], [1, 8, 5]])\n",
        "b = np.array([[11,16,18], [90, 37, 81], [61, 48, 75]])"
      ],
      "metadata": {
        "id": "mZbgCNnRDVbV"
      },
      "execution_count": null,
      "outputs": []
    },
    {
      "cell_type": "code",
      "source": [
        "# Write a NumPy function to add, subtract, multiply and divide arrays 'a' and 'b'\n",
        "a=np.array([[3,4],[4,5]])\n",
        "b=np.array([[5,6],[7,8]])\n",
        "print(a+b)\n",
        "print(a-b)\n",
        "print(a*b)\n",
        "print(a/b)"
      ],
      "metadata": {
        "id": "QajfAkNHCMqe",
        "colab": {
          "base_uri": "https://localhost:8080/"
        },
        "outputId": "43ccbbb8-3c74-4a08-ed88-25e2ea0cd500"
      },
      "execution_count": null,
      "outputs": [
        {
          "output_type": "stream",
          "name": "stdout",
          "text": [
            "[[ 8 10]\n",
            " [11 13]]\n",
            "[[-2 -2]\n",
            " [-3 -3]]\n",
            "[[15 24]\n",
            " [28 40]]\n",
            "[[0.6        0.66666667]\n",
            " [0.57142857 0.625     ]]\n"
          ]
        }
      ]
    },
    {
      "cell_type": "code",
      "source": [
        "# Write a NumPy function to get the sum of the array 'a' along axis=0 \n",
        "a=np.array([[23,45],[90,57]])\n",
        "print(a.sum(axis=0))\n",
        "# Write a NumPy function to get the sum of the array 'a' along axis=1 \n",
        "print(a.sum(axis=1))"
      ],
      "metadata": {
        "id": "hfBR7r80C_qh",
        "colab": {
          "base_uri": "https://localhost:8080/"
        },
        "outputId": "033ba7d5-582b-477c-f654-f7ab4c2c6fbe"
      },
      "execution_count": null,
      "outputs": [
        {
          "output_type": "stream",
          "name": "stdout",
          "text": [
            "[113 102]\n"
          ]
        }
      ]
    },
    {
      "cell_type": "code",
      "source": [
        "# Write a NumPy function to reverse the array 'a' \n",
        "a=np.array([[9,8],[7,9]])\n",
        "b=np.flip(a)\n",
        "print(b)\n",
        "# Write a NumPy function to reverse the array 'a' along axis=0\n",
        "a=np.array([[9,8],[7,9]])\n",
        "b=np.flip(a,axis=0)\n",
        "print(b)\n",
        "# Write a NumPy function to reverse the array 'a' along axis=1\n",
        "a=np.array([[9,8],[7,9]])\n",
        "b=np.flip(a,axis=1)\n",
        "print(b)"
      ],
      "metadata": {
        "id": "rBTxfTuFDSiA",
        "colab": {
          "base_uri": "https://localhost:8080/"
        },
        "outputId": "7ab1d8aa-5e5d-4689-b087-b273fae9850e"
      },
      "execution_count": null,
      "outputs": [
        {
          "output_type": "stream",
          "name": "stdout",
          "text": [
            "[[9 7]\n",
            " [8 9]]\n",
            "[[7 9]\n",
            " [9 8]]\n",
            "[[8 9]\n",
            " [9 7]]\n"
          ]
        }
      ]
    },
    {
      "cell_type": "markdown",
      "source": [
        "### Sorting and concatenation\n",
        "- sort arrays\n",
        "- join multiple arrays\n"
      ],
      "metadata": {
        "id": "WnCvXc3jCdWH"
      }
    },
    {
      "cell_type": "code",
      "source": [
        "a = np.array([[-4,6,8], [9, 3, 1], [1, 8, 5]])\n",
        "b = np.array([[11,16,18], [90, 37, 81], [61, 48, 75]])"
      ],
      "metadata": {
        "id": "Qsg-EPq7EbPx"
      },
      "execution_count": null,
      "outputs": []
    },
    {
      "cell_type": "code",
      "source": [
        "# Write a NumPy function to sort the array 'a' \n",
        "arr = np.sort(a)\n",
        "print(arr)\n",
        "# Write a NumPy function to sort the array 'a' along axis=0\n",
        "arr0 = np.sort(a,axis=0)\n",
        "print(arr0)\n",
        "# Write a NumPy function to sort the array 'a' along axis=1\n",
        "arr1 = np.sort(a,axis=1)\n",
        "print(arr1)\n",
        "# Write a NumPy function to sort the array 'a' in descending order along axis=0\n",
        "arr2 = -np.sort(-a,axis=0)\n",
        "print(arr2)"
      ],
      "metadata": {
        "id": "_7VfP1anCc0O",
        "colab": {
          "base_uri": "https://localhost:8080/"
        },
        "outputId": "8b0b5499-9bb8-429b-e85a-1078cb2091b8"
      },
      "execution_count": null,
      "outputs": [
        {
          "output_type": "stream",
          "name": "stdout",
          "text": [
            "[[-4  6  8]\n",
            " [ 1  3  9]\n",
            " [ 1  5  8]]\n",
            "[[-4  3  1]\n",
            " [ 1  6  5]\n",
            " [ 9  8  8]]\n",
            "[[-4  6  8]\n",
            " [ 1  3  9]\n",
            " [ 1  5  8]]\n",
            "[[ 9  8  8]\n",
            " [ 1  6  5]\n",
            " [-4  3  1]]\n"
          ]
        }
      ]
    },
    {
      "cell_type": "code",
      "source": [
        "# Write a NumPy function to argsort the array along axis=0\n",
        "arr = np.argsort(a,axis=0)\n",
        "print(arr)\n",
        "# Write a NumPy function to argsort the array along axis=1\n",
        "arr1 = np.argsort(a,axis=1)\n",
        "print(arr1)"
      ],
      "metadata": {
        "id": "6BqbtdLYEWng",
        "colab": {
          "base_uri": "https://localhost:8080/"
        },
        "outputId": "faeab779-2d27-4b8a-a285-88f642af8cab"
      },
      "execution_count": null,
      "outputs": [
        {
          "output_type": "stream",
          "name": "stdout",
          "text": [
            "[[0 1 1]\n",
            " [2 0 2]\n",
            " [1 2 0]]\n",
            "[[0 1 2]\n",
            " [2 1 0]\n",
            " [0 2 1]]\n"
          ]
        }
      ]
    },
    {
      "cell_type": "code",
      "source": [
        "# Write a NumPy function to concatenate the arrays 'a' and 'b'\n",
        "arr = np.concatenate((a,b))\n",
        "print(arr)\n",
        "# Write a NumPy function to concatenate the arrays 'a' and 'b' along axis = 0\n",
        "arr1 = np.concatenate((a,b),axis=0)\n",
        "print(arr1)\n",
        "# Note: You can do the same function using stacking, discover and try that :)\n",
        "arr2 = np.stack((a,b))\n",
        "print(arr2)"
      ],
      "metadata": {
        "id": "cixOoXZhEY8-",
        "colab": {
          "base_uri": "https://localhost:8080/"
        },
        "outputId": "e786a992-41ec-40dd-ebb4-a0a732494538"
      },
      "execution_count": null,
      "outputs": [
        {
          "output_type": "stream",
          "name": "stdout",
          "text": [
            "[[-4  6  8]\n",
            " [ 9  3  1]\n",
            " [ 1  8  5]\n",
            " [11 16 18]\n",
            " [90 37 81]\n",
            " [61 48 75]]\n",
            "[[-4  6  8]\n",
            " [ 9  3  1]\n",
            " [ 1  8  5]\n",
            " [11 16 18]\n",
            " [90 37 81]\n",
            " [61 48 75]]\n",
            "[[[-4  6  8]\n",
            "  [ 9  3  1]\n",
            "  [ 1  8  5]]\n",
            "\n",
            " [[11 16 18]\n",
            "  [90 37 81]\n",
            "  [61 48 75]]]\n"
          ]
        }
      ]
    },
    {
      "cell_type": "markdown",
      "source": [
        "### Reshaping arrays\n",
        "- the number of dimensions of the array\n",
        "-  shape of n-dimensional array as a tuple with n elements s.t. $i^{th}$ element is the length of the $i^{th}$ dimension of the array\n",
        "- total number of elements of the array\n",
        "- reshapes the array\n",
        "- flattens multidimensional array into a 1D array\n",
        "- adds new dimensions to the array"
      ],
      "metadata": {
        "id": "aY0j33z2EjNx"
      }
    },
    {
      "cell_type": "code",
      "source": [
        "a = np.array([[4,6,8], [9, 3, 1], [1, 8, 5]])"
      ],
      "metadata": {
        "id": "sStUkoh1FG4N"
      },
      "execution_count": null,
      "outputs": []
    },
    {
      "cell_type": "code",
      "source": [
        "# Write a NumPy function to get the Number of dimensions\n",
        "print(a.ndim)\n",
        "# Write a NumPy function to get the Shape of the array  \n",
        "print(arr.shape)\n",
        "# Write a NumPy function to get the Size of the array\n",
        "print(arr.size)"
      ],
      "metadata": {
        "id": "vb35oi57Ev1f",
        "colab": {
          "base_uri": "https://localhost:8080/"
        },
        "outputId": "61098aa6-1af0-4e94-86a2-de292a76b457"
      },
      "execution_count": null,
      "outputs": [
        {
          "output_type": "stream",
          "name": "stdout",
          "text": [
            "2\n",
            "(6, 3)\n",
            "18\n"
          ]
        }
      ]
    },
    {
      "cell_type": "code",
      "source": [
        "# Write a NumPy function to Reshape the array 'a' to the dimension (1,9)\n",
        "newarr = a.reshape(1,9)\n",
        "print(newarr)"
      ],
      "metadata": {
        "id": "MznU0NWKE54c",
        "colab": {
          "base_uri": "https://localhost:8080/"
        },
        "outputId": "78d52105-31b7-4f76-a34b-e0164404ae3d"
      },
      "execution_count": null,
      "outputs": [
        {
          "output_type": "stream",
          "name": "stdout",
          "text": [
            "[[-4  6  8  9  3  1  1  8  5]]\n"
          ]
        }
      ]
    },
    {
      "cell_type": "code",
      "source": [
        "# Write a NumPy function to add a new axis to the array 'a' \n",
        "# Note : Show atleast two different ways of doing this \n",
        "#first method\n",
        "arr = a[np.newaxis, :]\n",
        "print(arr)\n",
        "#second method\n",
        "arr1=np.expand_dims(a, axis=0)\n",
        "print(arr1)"
      ],
      "metadata": {
        "id": "p1dlxcNYE8tv",
        "colab": {
          "base_uri": "https://localhost:8080/"
        },
        "outputId": "cc5131d9-fdfb-4eac-f010-eb45ffde9280"
      },
      "execution_count": null,
      "outputs": [
        {
          "output_type": "stream",
          "name": "stdout",
          "text": [
            "[[[[4]\n",
            "   [6]\n",
            "   [0]]\n",
            "\n",
            "  [[0]\n",
            "   [3]\n",
            "   [1]]\n",
            "\n",
            "  [[1]\n",
            "   [8]\n",
            "   [5]]]]\n",
            "[[[[4]\n",
            "   [6]\n",
            "   [0]]\n",
            "\n",
            "  [[0]\n",
            "   [3]\n",
            "   [1]]\n",
            "\n",
            "  [[1]\n",
            "   [8]\n",
            "   [5]]]]\n"
          ]
        }
      ]
    },
    {
      "cell_type": "markdown",
      "source": [
        "### Indexing and slicing\n",
        "- NumPy allows indexing array using tuple of nonnegative integers, booleans, array or integers"
      ],
      "metadata": {
        "id": "Ng4xWkwpFtao"
      }
    },
    {
      "cell_type": "code",
      "source": [
        "a = np.array([[4,6,0], [0, 3, 1], [1, 8, 5]])"
      ],
      "metadata": {
        "id": "swrtOhPGGB7r"
      },
      "execution_count": null,
      "outputs": []
    },
    {
      "cell_type": "code",
      "source": [
        "# Write a NumPy function to index and slice NumPy arrays similar to Python lists\n",
        "# Show all three - indexing by a integer, indexing by a tuple, using range\n",
        "element = a[1]\n",
        "print(\"second element:\",element)\n",
        "arr = a[0,2]\n",
        "print(\"element at index [0,2]:\",arr)\n",
        "s_arr = a[0:2,1:2]\n",
        "print(\"sliced array:\",s_arr)"
      ],
      "metadata": {
        "id": "w3QaVYRyFs77",
        "colab": {
          "base_uri": "https://localhost:8080/"
        },
        "outputId": "bdcd9cd3-41ce-4103-ceec-33b4328040e1"
      },
      "execution_count": null,
      "outputs": [
        {
          "output_type": "stream",
          "name": "stdout",
          "text": [
            "second element: [[0]\n",
            " [3]\n",
            " [1]]\n",
            "element at index [0,2]: [0]\n",
            "sliced array: [[[6]]\n",
            "\n",
            " [[3]]]\n"
          ]
        }
      ]
    },
    {
      "cell_type": "code",
      "source": [
        "# Write a NumPy function to select values satisfying a specific condition like Values greater than 4 \n",
        "def req_value(a,y):\n",
        "  x= a>y\n",
        "  ans=a[x]\n",
        "  return ans\n",
        "required=req_value(a,4)\n",
        "print(required) \n",
        "# Write a NumPy function to select values satisfying mulitple conditions like Values greater than 4 and divisible by 2\n",
        "def req_value(a):\n",
        "  x= a>4\n",
        "  y= a%2==0\n",
        "  z= np.logical_and(x,y)\n",
        "  ans=a[z]\n",
        "  return ans\n",
        "required=req_value(a)\n",
        "print(required)"
      ],
      "metadata": {
        "id": "Xn2_z5h-Fmrd",
        "colab": {
          "base_uri": "https://localhost:8080/"
        },
        "outputId": "ad6b4a53-d623-4df4-e6c9-0e615595d2f6"
      },
      "execution_count": null,
      "outputs": [
        {
          "output_type": "stream",
          "name": "stdout",
          "text": [
            "[6 8 5]\n",
            "[6 8]\n"
          ]
        }
      ]
    },
    {
      "cell_type": "markdown",
      "source": [
        "### Copying arrays\n",
        "- new array object with a copy of the data\n",
        "- Changes made in the copy array is not reflected in the original array"
      ],
      "metadata": {
        "id": "GWU0EfaAG2ll"
      }
    },
    {
      "cell_type": "code",
      "source": [
        "a = np.array([[4,6,0], [0, 3, 1], [1, 8, 5]])"
      ],
      "metadata": {
        "id": "ijdgy02lHMJW"
      },
      "execution_count": null,
      "outputs": []
    },
    {
      "cell_type": "code",
      "source": [
        "# Write a NumPy function to copy the array 'a' and finally print an array where all elements are increased by 1\n",
        "arr = np.copy(a)\n",
        "arr = arr+1\n",
        "print(arr)\n"
      ],
      "metadata": {
        "id": "FmgUdh66GuQH",
        "colab": {
          "base_uri": "https://localhost:8080/"
        },
        "outputId": "94f1a772-b453-4662-b744-1115bedf2b73"
      },
      "execution_count": null,
      "outputs": [
        {
          "output_type": "stream",
          "name": "stdout",
          "text": [
            "[[[5]\n",
            "  [7]\n",
            "  [1]]\n",
            "\n",
            " [[1]\n",
            "  [4]\n",
            "  [2]]\n",
            "\n",
            " [[2]\n",
            "  [9]\n",
            "  [6]]]\n"
          ]
        }
      ]
    },
    {
      "cell_type": "markdown",
      "source": [
        "## Pandas ( Python Data Analysis Library)\n",
        "\n",
        "### Main Features\n",
        "- Easy handling of missing data in both floating point and non-floating point data.\n",
        "- Automatic and explicit data alignment, making it easy to perform computations and transformations on data sets.\n",
        "\n"
      ],
      "metadata": {
        "id": "M1KLD5QxHsVw"
      }
    },
    {
      "cell_type": "markdown",
      "source": [
        "#### Generating the dataset "
      ],
      "metadata": {
        "id": "v1CuU3FeIq1a"
      }
    },
    {
      "cell_type": "markdown",
      "source": [
        "Run the following load command to get the 2-Dim iris dataset. Do the following operations on it and please dont edit this cell"
      ],
      "metadata": {
        "id": "fp36ZqOMIy7k"
      }
    },
    {
      "cell_type": "code",
      "source": [
        "url = 'https://archive.ics.uci.edu/ml/machine-learning-databases/iris/iris.data'\n",
        "iris_2d = np.genfromtxt(url, delimiter=',', dtype='float', usecols=[0,1,2,3])"
      ],
      "metadata": {
        "id": "A_O5RTBXIyK-"
      },
      "execution_count": null,
      "outputs": []
    },
    {
      "cell_type": "markdown",
      "source": [
        "#### Basic Data Analysis"
      ],
      "metadata": {
        "id": "EILb6pPrS8Ju"
      }
    },
    {
      "cell_type": "code",
      "source": [
        "# Write a Pandas function to drop rows that contain a missing value. \n",
        "import pandas as pd\n",
        "def droprows(df):\n",
        "       df_dropped = df.dropna()\n",
        "       return df_dropped\n",
        "df=pd.DataFrame(iris_2d)\n",
        "df_dropped = droprows(df)\n",
        "print(df_dropped)      "
      ],
      "metadata": {
        "id": "bViO1LLoI7sz",
        "colab": {
          "base_uri": "https://localhost:8080/"
        },
        "outputId": "71617a73-636b-401d-e54e-bb868b8e2e6a"
      },
      "execution_count": null,
      "outputs": [
        {
          "output_type": "stream",
          "name": "stdout",
          "text": [
            "       0    1    2    3\n",
            "0    5.1  3.5  1.4  0.2\n",
            "1    4.9  3.0  1.4  0.2\n",
            "2    4.7  3.2  1.3  0.2\n",
            "3    4.6  3.1  1.5  0.2\n",
            "4    5.0  3.6  1.4  0.2\n",
            "..   ...  ...  ...  ...\n",
            "145  6.7  3.0  5.2  2.3\n",
            "146  6.3  2.5  5.0  1.9\n",
            "147  6.5  3.0  5.2  2.0\n",
            "148  6.2  3.4  5.4  2.3\n",
            "149  5.9  3.0  5.1  1.8\n",
            "\n",
            "[150 rows x 4 columns]\n"
          ]
        }
      ]
    },
    {
      "cell_type": "code",
      "source": [
        "# Write a Pandas function to find the correlation between the first two columns.\n",
        "def correlation(df):\n",
        "  x = df.iloc[:, 0:2]\n",
        "  cor=x.corr()\n",
        "  return cor\n",
        "  df=pd.DataFrame(iris_2d)\n",
        "cor=correlation(df)\n",
        "print(cor)"
      ],
      "metadata": {
        "id": "zp_BYv5EJDjJ",
        "colab": {
          "base_uri": "https://localhost:8080/"
        },
        "outputId": "c9bbb3be-cf5a-4be6-d7e0-76087f21b580"
      },
      "execution_count": null,
      "outputs": [
        {
          "output_type": "stream",
          "name": "stdout",
          "text": [
            "          0         1\n",
            "0  1.000000 -0.109369\n",
            "1 -0.109369  1.000000\n"
          ]
        }
      ]
    },
    {
      "cell_type": "code",
      "source": [
        "# Write a Pandas function to find the mean, median and standard deviation of column 3.\n",
        "import pandas as pd\n",
        "def stats(df,column):\n",
        "  mean=df[column].mean()\n",
        "  median=df[column].median()\n",
        "  std_dev=df[column].std()\n",
        "  return mean,median,std_dev\n",
        "df = pd.DataFrame(iris_2d)\n",
        "mean,median,std_dev = stats(df, 3)\n",
        "print(\"Mean, Median, Std_dev respectively are:\", mean,median,std_dev)"
      ],
      "metadata": {
        "id": "0mjeoZCwJDoW",
        "colab": {
          "base_uri": "https://localhost:8080/"
        },
        "outputId": "5e657ef7-ecac-4c5e-af5a-2e182f86fbde"
      },
      "execution_count": null,
      "outputs": [
        {
          "output_type": "stream",
          "name": "stdout",
          "text": [
            "Mean, Median, Std_dev respectively are: 1.1986666666666668 1.3 0.7631607417008411\n"
          ]
        }
      ]
    },
    {
      "cell_type": "code",
      "source": [
        "# Write a Pandas function to create a new column for volume in iris_2d, where volume is (pi x petallength x sepal_length^2)/3\n",
        "# Hints: \n",
        "# 1. Introduce new dimension to match iris_2d's\n",
        "# 2. Add the new column\n",
        "import pandas as pd\n",
        "def stats(df,column):\n",
        "  mean = df[column].mean()\n",
        "  median = df[column].median()\n",
        "  std_dev = df[column].std()\n",
        "  return mean,median,std_dev\n",
        "df = pd.DataFrame(iris_2d)\n",
        "mean,median,std_dev= stats(df,3)\n",
        "print(\"Mean, Median, Std_dev respectively are:\", mean,median,std_dev)\n"
      ],
      "metadata": {
        "id": "bRiYEhWTJDrM",
        "colab": {
          "base_uri": "https://localhost:8080/"
        },
        "outputId": "135b8293-2a66-436a-98e5-24c97223efc2"
      },
      "execution_count": null,
      "outputs": [
        {
          "output_type": "stream",
          "name": "stdout",
          "text": [
            "Mean, Median, Std_dev respectively are: 1.1986666666666668 1.3 0.7631607417008411\n"
          ]
        }
      ]
    },
    {
      "cell_type": "markdown",
      "source": [
        "# Section B *(2 Marks each)*"
      ],
      "metadata": {
        "id": "dGqrG93ELEQ3"
      }
    },
    {
      "cell_type": "markdown",
      "source": [
        "###NumPy"
      ],
      "metadata": {
        "id": "OLm8jv7tMH6h"
      }
    },
    {
      "cell_type": "markdown",
      "source": [
        "Q1 Let x = np.arange(4, dtype=np.int64). Create an array of ones with the same shape and type as X."
      ],
      "metadata": {
        "id": "zE1n0x7ZLRLU"
      }
    },
    {
      "cell_type": "code",
      "source": [
        "import numpy as np\n",
        "x = np.arange(4,dtype=np.int64)\n",
        "y = np.ones_like(x)\n",
        "print(y)"
      ],
      "metadata": {
        "id": "H8o9C6b7LJzA",
        "colab": {
          "base_uri": "https://localhost:8080/"
        },
        "outputId": "35356d12-8f19-43e9-a0c2-fd38d11dd197"
      },
      "execution_count": null,
      "outputs": [
        {
          "output_type": "stream",
          "name": "stdout",
          "text": [
            "[1 1 1 1]\n"
          ]
        }
      ]
    },
    {
      "cell_type": "markdown",
      "source": [
        "Q2 Let x be an array [1, 2, 3, ..., 9]. Split x into 3 arrays, each of which has 4, 2, and 3 elements in the original order."
      ],
      "metadata": {
        "id": "PPYeTqoHLSNj"
      }
    },
    {
      "cell_type": "code",
      "source": [
        "x= np.arange(1,10)\n",
        "a= np.split(x,[4,6])\n",
        "print(a)"
      ],
      "metadata": {
        "id": "DS9mr30LLYdg",
        "colab": {
          "base_uri": "https://localhost:8080/"
        },
        "outputId": "5a527c5e-6d82-458c-edd6-0cf8975befff"
      },
      "execution_count": null,
      "outputs": [
        {
          "output_type": "stream",
          "name": "stdout",
          "text": [
            "[array([1, 2, 3, 4]), array([5, 6]), array([7, 8, 9])]\n"
          ]
        }
      ]
    },
    {
      "cell_type": "markdown",
      "source": [
        "Q3 Initiate x as a 2x5 array with random values from 0 to 10(not inclusive).Get the maximum and minimum values and their indices of x along the second axis."
      ],
      "metadata": {
        "id": "b1wJaooRLXjN"
      }
    },
    {
      "cell_type": "code",
      "source": [
        "import numpy as np\n",
        "arr = np.random.randint(0,10, size=(2,5))\n",
        "print(\"maximum values of array along axis=1:\", np.max(arr, axis=1))\n",
        "print(\"minimum values of array along axis=1:\", np.min(arr, axis=1))\n",
        "print(\"indices of max values along axis=1:\", np.argmax(arr, axis=1))\n",
        "print(\"indices of min values along axis=1:\", np.argmin(arr, axis=1))"
      ],
      "metadata": {
        "id": "GnXDqksjLf89",
        "colab": {
          "base_uri": "https://localhost:8080/"
        },
        "outputId": "882ff61d-3c20-4d2e-a640-5c971fa76307"
      },
      "execution_count": null,
      "outputs": [
        {
          "output_type": "stream",
          "name": "stdout",
          "text": [
            "maximum values of array along axis=1: [8 6]\n",
            "minimum values of array along axis=1: [0 1]\n",
            "indices of max values along axis=1: [2 3]\n",
            "indices of min values along axis=1: [3 4]\n"
          ]
        }
      ]
    },
    {
      "cell_type": "markdown",
      "source": [
        "### Pandas"
      ],
      "metadata": {
        "id": "8_Q7fbyxMMHM"
      }
    },
    {
      "cell_type": "markdown",
      "source": [
        "Run the following load command and solve the following questions"
      ],
      "metadata": {
        "id": "3QpaFHkxJUho"
      }
    },
    {
      "cell_type": "code",
      "source": [
        "url = 'https://archive.ics.uci.edu/ml/machine-learning-databases/iris/iris.data'\n",
        "iris = np.genfromtxt(url, delimiter=',', dtype='object')\n",
        "names = ('sepallength', 'sepalwidth', 'petallength', 'petalwidth', 'species')"
      ],
      "metadata": {
        "id": "mLdcY49iJDtl"
      },
      "execution_count": null,
      "outputs": []
    },
    {
      "cell_type": "markdown",
      "source": [
        "Q4 Write a Pandas function to find the count of unique species."
      ],
      "metadata": {
        "id": "zbDepnx9RtV8"
      }
    },
    {
      "cell_type": "code",
      "source": [
        "import pandas as pd\n",
        "def count_unique(data):\n",
        "  unique = data.nunique()\n",
        "  return unique\n",
        "data = pd.DataFrame(iris)\n",
        "x = count_unique(data)\n",
        "print(x)"
      ],
      "metadata": {
        "id": "oAkO0UnqJDv7",
        "colab": {
          "base_uri": "https://localhost:8080/"
        },
        "outputId": "add6939d-9263-46c7-8c8c-dc4e0074d1a8"
      },
      "execution_count": null,
      "outputs": [
        {
          "output_type": "stream",
          "name": "stdout",
          "text": [
            "0    35\n",
            "1    23\n",
            "2    43\n",
            "3    22\n",
            "4     3\n",
            "dtype: int64\n"
          ]
        }
      ]
    },
    {
      "cell_type": "markdown",
      "source": [
        "# Q5 Write a Pandas function to bin the petal length (3rd) column of iris_2d to form a text array, such that if petal length is:\n",
        "- Less than 3 –> ‘small’\n",
        "- 3-5 –> ‘medium’\n",
        "- greater than equal to 5 –> ‘large’"
      ],
      "metadata": {
        "id": "Usj5HlvyRxal"
      }
    },
    {
      "cell_type": "code",
      "source": [
        "import pandas as pd\n",
        "def binpetal_length(data):\n",
        "  data['petal_length_bin']=pd.cut(data['petallength'], bins=[0,3,5, float('inf')], labels=['small','medium','large'], right=False)\n",
        "  return data\n",
        "url = 'https://archive.ics.uci.edu/ml/machine-learning-databases/iris/iris.data'\n",
        "iris_2d = pd.read_csv(url, header=None, names=['sepallength', 'sepalwidth', 'petallength', 'petalwidth', 'species'])\n",
        "iris_2d_binned = binpetal_length(iris_2d)\n",
        "print(iris_2d_binned)"
      ],
      "metadata": {
        "id": "gTWWJoLMJDxx",
        "colab": {
          "base_uri": "https://localhost:8080/"
        },
        "outputId": "94371ac6-58c6-455b-a632-9559741f6e29"
      },
      "execution_count": null,
      "outputs": [
        {
          "output_type": "stream",
          "name": "stdout",
          "text": [
            "     sepallength  sepalwidth  petallength  petalwidth         species  \\\n",
            "0            5.1         3.5          1.4         0.2     Iris-setosa   \n",
            "1            4.9         3.0          1.4         0.2     Iris-setosa   \n",
            "2            4.7         3.2          1.3         0.2     Iris-setosa   \n",
            "3            4.6         3.1          1.5         0.2     Iris-setosa   \n",
            "4            5.0         3.6          1.4         0.2     Iris-setosa   \n",
            "..           ...         ...          ...         ...             ...   \n",
            "145          6.7         3.0          5.2         2.3  Iris-virginica   \n",
            "146          6.3         2.5          5.0         1.9  Iris-virginica   \n",
            "147          6.5         3.0          5.2         2.0  Iris-virginica   \n",
            "148          6.2         3.4          5.4         2.3  Iris-virginica   \n",
            "149          5.9         3.0          5.1         1.8  Iris-virginica   \n",
            "\n",
            "    petal_length_bin  \n",
            "0              small  \n",
            "1              small  \n",
            "2              small  \n",
            "3              small  \n",
            "4              small  \n",
            "..               ...  \n",
            "145            large  \n",
            "146            large  \n",
            "147            large  \n",
            "148            large  \n",
            "149            large  \n",
            "\n",
            "[150 rows x 6 columns]\n"
          ]
        }
      ]
    },
    {
      "cell_type": "markdown",
      "source": [
        "Q6 Write a Pandas function to find the most frequent value of petal length (3rd column) in iris dataset"
      ],
      "metadata": {
        "id": "IbBYP_8sSBrB"
      }
    },
    {
      "cell_type": "code",
      "source": [
        "import pandas as pd\n",
        "def frequent_petal_length(url):\n",
        "    iris = pd.read_csv(url, header=None, names=('sepallength', 'sepalwidth', 'petallength', 'petalwidth', 'species'))\n",
        "    most_frequent_value = iris['petallength'].mode().values[0]\n",
        "    return most_frequent_value\n",
        "    url = 'https://archive.ics.uci.edu/ml/machine-learning-databases/iris/iris.data'\n",
        "most_frequent_value = frequent_petal_length(url)\n",
        "print(\"Most frequent value of petal length:\", most_frequent_value)"
      ],
      "metadata": {
        "id": "DNk_tlVWJufR",
        "colab": {
          "base_uri": "https://localhost:8080/"
        },
        "outputId": "bb8f3062-e438-4185-caa8-f3865cab1917"
      },
      "execution_count": null,
      "outputs": [
        {
          "output_type": "stream",
          "name": "stdout",
          "text": [
            "Most frequent value of petal length: 1.5\n"
          ]
        }
      ]
    }
  ]
}