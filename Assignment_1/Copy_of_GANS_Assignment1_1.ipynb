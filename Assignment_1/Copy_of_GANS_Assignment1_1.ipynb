{
 main
 "cells": [
  {
   "cell_type": "markdown",
   "metadata": {
    "id": "kIAcUXNYVeGR"
   },
   "source": [
    "Instructions for the assignment\n",
    "\n",
    "\n",
    "*   Fill the codeblocks according to the comments given\n",
    "*   Hints are given wherever required\n",
    "*   Please note that copying will not be tolerated, and appropriate action will be taken if we suspect any misconduct.\n",
    "*   You're welcome to utilize any online resources in case you feel stuck anywhere :-)\n",
    "\n",
    "\n",
    "\n",
    "\n",
    "\n",
    "\n",
    "\n"
   ]
  },
  {
   "cell_type": "markdown",
   "metadata": {
    "id": "UhXvUdK6Stt_"
   },
   "source": [
    "# Section A *(2 Marks each)*"
   ]
  },
  {
   "cell_type": "markdown",
   "metadata": {
    "id": "oc77CrhjAGlR"
   },
   "source": [
    "## NumPy (Numerical Python)\n",
    "**bold text**\n",
    "### Multidimensional array object\n",
    "- Array is a grid of homogeneous elements which can be indexed in various ways \n",
    "- Different from Python list which can store different data types\n",
    "- NumPy stores multidimensional arrays as an instance of **ndarray** \n",
    "\n"
   ]
  },
  {
   "cell_type": "code",
   "execution_count": 1,
   "metadata": {
    "id": "WGtRigfyBpgb"
   },
   "outputs": [],
   "source": [
    "import numpy as np"
   ]
  },
  {
   "cell_type": "code",
   "execution_count": 2,
   "metadata": {
    "colab": {
     "base_uri": "https://localhost:8080/"
    },
    "id": "UR9ftRnU8_lu",
    "outputId": "e431a034-046d-44ed-e039-f3399b120556"
   },
   "outputs": [
    {
     "name": "stdout",
     "output_type": "stream",
     "text": [
      "[1 2 3 4 5]\n",
      "[[1 2 3]\n",
      " [4 5 6]\n",
      " [7 8 9]]\n"
     ]
    }
   ],
   "source": [
    "# Python list to initialize a one dimensional NumPy array of numbers 1 to 5 and then print it \n",
    "list1 = [1,2,3,4,5]\n",
    "arr1 = np.array(list1)\n",
    "print(arr1)\n",
    "# Python list to initialize a two dimensional NumPy array of shape [3,3] and then print it \n",
    "list2 = [[1,2,3],[4,5,6],[7,8,9]]\n",
    "arr2 = np.array(list2)\n",
    "print(arr2)"
   ]
  },
  {
   "cell_type": "code",
   "execution_count": 3,
   "metadata": {
    "colab": {
     "base_uri": "https://localhost:8080/"
    },
    "id": "WZf-M7KnBkhu",
    "outputId": "dcb5106b-5324-41a0-ac0e-62fffcb70e43"
   },
   "outputs": [
    {
     "name": "stdout",
     "output_type": "stream",
     "text": [
      "[[0.40977447 0.20221345 0.50520445 0.82594511]\n",
      " [0.43064372 0.41340656 0.04820847 0.80268284]\n",
      " [0.47302704 0.01024383 0.87157923 0.74549394]]\n",
      "[[0. 0. 0. 0.]\n",
      " [0. 0. 0. 0.]\n",
      " [0. 0. 0. 0.]]\n",
      "[[1. 1. 1. 1.]\n",
      " [1. 1. 1. 1.]\n",
      " [1. 1. 1. 1.]]\n"
     ]
    }
   ],
   "source": [
    "# Write a NumPy function to create an array with random values of shape [3,4]\n",
    "arr3 = np.random.rand(3,4)\n",
    "print(arr3)\n",
    "# Write a NumPy function to create an array with all elements initialized as zero of shape [3,4]\n",
    "arr4 = np.zeros((3,4))\n",
    "print(arr4)\n",
    "# Write a NumPy function to create an array with all elements initialized as ones of shape [3,4]\n",
    "arr5 = np.ones((3,4))\n",
    "print(arr5)"
   ]
  },
  {
   "cell_type": "code",
   "execution_count": 4,
   "metadata": {
    "colab": {
     "base_uri": "https://localhost:8080/"
    },
    "id": "Uagv5WtWBknb",
    "outputId": "ad5891c2-52ec-45af-87d4-29adc9a00948"
   },
   "outputs": [
    {
     "name": "stdout",
     "output_type": "stream",
     "text": [
      "[ 1.          1.18367347  1.36734694  1.55102041  1.73469388  1.91836735\n",
      "  2.10204082  2.28571429  2.46938776  2.65306122  2.83673469  3.02040816\n",
      "  3.20408163  3.3877551   3.57142857  3.75510204  3.93877551  4.12244898\n",
      "  4.30612245  4.48979592  4.67346939  4.85714286  5.04081633  5.2244898\n",
      "  5.40816327  5.59183673  5.7755102   5.95918367  6.14285714  6.32653061\n",
      "  6.51020408  6.69387755  6.87755102  7.06122449  7.24489796  7.42857143\n",
      "  7.6122449   7.79591837  7.97959184  8.16326531  8.34693878  8.53061224\n",
      "  8.71428571  8.89795918  9.08163265  9.26530612  9.44897959  9.63265306\n",
      "  9.81632653 10.        ]\n"
     ]
    }
   ],
   "source": [
    "# Write a NumPy function to create an array containing a range of evenly spaced intervals\n",
    "# Hint : Use np.arange or np.linspace\n",
    "arr6 = np.linspace(1,10) #default number of elements is 50\n",
    "print(arr6)"
   ]
  },
  {
   "cell_type": "markdown",
   "metadata": {
    "id": "dFeKiGA5CNXx"
   },
   "source": [
    "### Basic array operations\n",
    "- algebraic operations \n",
    "- logical operations"
   ]
  },
  {
   "cell_type": "code",
   "execution_count": 5,
   "metadata": {
    "id": "mZbgCNnRDVbV"
   },
   "outputs": [],
   "source": [
    "a = np.array([[-4,6,8], [9, 3, 1], [1, 8, 5]])\n",
    "b = np.array([[11,16,18], [90, 37, 81], [61, 48, 75]])"
   ]
  },
  {
   "cell_type": "code",
   "execution_count": 6,
   "metadata": {
    "colab": {
     "base_uri": "https://localhost:8080/"
    },
    "id": "QajfAkNHCMqe",
    "outputId": "11236e81-5d28-45ad-b899-7259e64c39b5"
   },
   "outputs": [
    {
     "name": "stdout",
     "output_type": "stream",
     "text": [
      "[[ 7 22 26]\n",
      " [99 40 82]\n",
      " [62 56 80]]\n",
      "[[-15 -10 -10]\n",
      " [-81 -34 -80]\n",
      " [-60 -40 -70]]\n",
      "[[-44  96 144]\n",
      " [810 111  81]\n",
      " [ 61 384 375]]\n",
      "[[-0.36363636  0.375       0.44444444]\n",
      " [ 0.1         0.08108108  0.01234568]\n",
      " [ 0.01639344  0.16666667  0.06666667]]\n"
     ]
    }
   ],
   "source": [
    "# Write a NumPy function to add, subtract, multiply and divide arrays 'a' and 'b'\n",
    "print(np.add(a,b))\n",
    "print(np.subtract(a,b))\n",
    "print(np.multiply(a,b))\n",
    "print(np.divide(a,b))"
   ]
  },
  {
   "cell_type": "code",
   "execution_count": 7,
   "metadata": {
    "colab": {
     "base_uri": "https://localhost:8080/"
    },
    "id": "hfBR7r80C_qh",
    "outputId": "a2c08ae0-9403-4396-f8c3-30953281126d"
   },
   "outputs": [
    {
     "name": "stdout",
     "output_type": "stream",
     "text": [
      "[ 6 17 14]\n",
      "[10 13 14]\n"
     ]
    }
   ],
   "source": [
    "# Write a NumPy function to get the sum of the array 'a' along axis=0 \n",
    "print(np.sum(a,axis = 0))\n",
    "# Write a NumPy function to get the sum of the array 'a' along axis=1 \n",
    "print(np.sum(a,axis = 1))"
   ]
  },
  {
   "cell_type": "code",
   "execution_count": 8,
   "metadata": {
    "colab": {
     "base_uri": "https://localhost:8080/"
    },
    "id": "rBTxfTuFDSiA",
    "outputId": "2c34dcb9-6c36-43a6-8629-d630a38e9d3c"
   },
   "outputs": [
    {
     "name": "stdout",
     "output_type": "stream",
     "text": [
      "[[ 5  8  1]\n",
      " [ 1  3  9]\n",
      " [ 8  6 -4]]\n",
      "[[ 1  8  5]\n",
      " [ 9  3  1]\n",
      " [-4  6  8]]\n",
      "[[ 8  6 -4]\n",
      " [ 1  3  9]\n",
      " [ 5  8  1]]\n"
     ]
    }
   ],
   "source": [
    "# Write a NumPy function to reverse the array 'a' \n",
    "print(np.flip(a))\n",
    "# Write a NumPy function to reverse the array 'a' along axis=0\n",
    "print(np.flip(a,axis = 0))\n",
    "# Write a NumPy function to reverse the array 'a' along axis=1\n",
    "print(np.flip(a,axis = 1))"
   ]
  },
  {
   "cell_type": "markdown",
   "metadata": {
    "id": "WnCvXc3jCdWH"
   },
   "source": [
    "### Sorting and concatenation\n",
    "- sort arrays\n",
    "- join multiple arrays\n"
   ]
  },
  {
   "cell_type": "code",
   "execution_count": 9,
   "metadata": {
    "id": "Qsg-EPq7EbPx"
   },
   "outputs": [],
   "source": [
    "a = np.array([[-4,6,8], [9, 3, 1], [1, 8, 5]])\n",
    "b = np.array([[11,16,18], [90, 37, 81], [61, 48, 75]])"
   ]
  },
  {
   "cell_type": "code",
   "execution_count": 10,
   "metadata": {
    "colab": {
     "base_uri": "https://localhost:8080/"
    },
    "id": "_7VfP1anCc0O",
    "outputId": "ec02d607-a4c4-4047-a351-2f4a2e6cbc78"
   },
   "outputs": [
    {
     "name": "stdout",
     "output_type": "stream",
     "text": [
      "[[-4  6  8]\n",
      " [ 1  3  9]\n",
      " [ 1  5  8]]\n",
      "[[-4  3  1]\n",
      " [ 1  6  5]\n",
      " [ 9  8  8]]\n",
      "[[-4  6  8]\n",
      " [ 1  3  9]\n",
      " [ 1  5  8]]\n",
      "[[ 9  8  8]\n",
      " [ 1  6  5]\n",
      " [-4  3  1]]\n"
     ]
    }
   ],
   "source": [
    "# Write a NumPy function to sort the array 'a' \n",
    "print(np.sort(a))\n",
    "# Write a NumPy function to sort the array 'a' along axis=0\n",
    "print(np.sort(a,axis = 0))\n",
    "# Write a NumPy function to sort the array 'a' along axis=1\n",
    "print(np.sort(a,axis = 1))\n",
    "# Write a NumPy function to sort the array 'a' in descending order along axis=0\n",
    "print(np.sort(a,axis = 0)[::-1])"
   ]
  },
  {
   "cell_type": "code",
   "execution_count": 11,
   "metadata": {
    "colab": {
     "base_uri": "https://localhost:8080/"
    },
    "id": "6BqbtdLYEWng",
    "outputId": "3ed2fb66-b191-421c-e7d2-06e6be1305dd"
   },
   "outputs": [
    {
     "name": "stdout",
     "output_type": "stream",
     "text": [
      "[[0 1 1]\n",
      " [2 0 2]\n",
      " [1 2 0]]\n",
      "[[0 1 2]\n",
      " [2 1 0]\n",
      " [0 2 1]]\n"
     ]
    }
   ],
   "source": [
    "# Write a NumPy function to argsort the array along axis=0\n",
    "print(np.argsort(a,axis = 0))\n",
    "# Write a NumPy function to argsort the array along axis=1\n",
    "print(np.argsort(a,axis = 1))"
   ]
  },
  {
   "cell_type": "code",
   "execution_count": 12,
   "metadata": {
    "colab": {
     "base_uri": "https://localhost:8080/"
    },
    "id": "cixOoXZhEY8-",
    "outputId": "1e2f3d84-3ced-4267-d21a-b8dc3b4351ac"
   },
   "outputs": [
    {
     "name": "stdout",
     "output_type": "stream",
     "text": [
      "[[-4  6  8]\n",
      " [ 9  3  1]\n",
      " [ 1  8  5]\n",
      " [11 16 18]\n",
      " [90 37 81]\n",
      " [61 48 75]]\n",
      "[[-4  6  8]\n",
      " [ 9  3  1]\n",
      " [ 1  8  5]\n",
      " [11 16 18]\n",
      " [90 37 81]\n",
      " [61 48 75]]\n",
      "[[-4  6  8]\n",
      " [ 9  3  1]\n",
      " [ 1  8  5]\n",
      " [11 16 18]\n",
      " [90 37 81]\n",
      " [61 48 75]]\n"
     ]
    }
   ],
   "source": [
    "# Write a NumPy function to concatenate the arrays 'a' and 'b'\n",
    "print(np.concatenate((a,b)))\n",
    "# Write a NumPy function to concatenate the arrays 'a' and 'b' along axis = 0\n",
    "print(np.concatenate((a,b),axis = 0))\n",
    "# Note: You can do the same function using stacking, discover and try that :)\n",
    "print(np.vstack((a,b)))"
   ]
  },
  {
   "cell_type": "markdown",
   "metadata": {
    "id": "aY0j33z2EjNx"
   },
   "source": [
    "### Reshaping arrays\n",
    "- the number of dimensions of the array\n",
    "-  shape of n-dimensional array as a tuple with n elements s.t. $i^{th}$ element is the length of the $i^{th}$ dimension of the array\n",
    "- total number of elements of the array\n",
    "- reshapes the array\n",
    "- flattens multidimensional array into a 1D array\n",
    "- adds new dimensions to the array"
   ]
  },
  {
   "cell_type": "code",
   "execution_count": 13,
   "metadata": {
    "id": "sStUkoh1FG4N"
   },
   "outputs": [],
   "source": [
    "a = np.array([[4,6,8], [9, 3, 1], [1, 8, 5]])"
   ]
  },
  {
   "cell_type": "code",
   "execution_count": 14,
   "metadata": {
    "colab": {
     "base_uri": "https://localhost:8080/"
    },
    "id": "vb35oi57Ev1f",
    "outputId": "0a8c3839-5bdc-476b-8269-4377604e5cc7"
   },
   "outputs": [
    {
     "name": "stdout",
     "output_type": "stream",
     "text": [
      "2\n",
      "(3, 3)\n",
      "9\n"
     ]
    }
   ],
   "source": [
    "# Write a NumPy function to get the Number of dimensions\n",
    "print(a.ndim)\n",
    "# Write a NumPy function to get the Shape of the array  \n",
    "print(a.shape)\n",
    "# Write a NumPy function to get the Size of the array\n",
    "print(a.size)"
   ]
  },
  {
   "cell_type": "code",
   "execution_count": 15,
   "metadata": {
    "colab": {
     "base_uri": "https://localhost:8080/"
    },
    "id": "MznU0NWKE54c",
    "outputId": "18de27cd-6449-404f-d190-6a87c98238ba"
   },
   "outputs": [
    {
     "data": {
      "text/plain": [
       "array([[4, 6, 8, 9, 3, 1, 1, 8, 5]])"
      ]
     },
     "execution_count": 15,
     "metadata": {},
     "output_type": "execute_result"
    }
   ],
   "source": [
    "# Write a NumPy function to Reshape the array 'a' to the dimension (1,9)\n",
    "a.reshape(1,9)"
   ]
  },
  {
   "cell_type": "code",
   "execution_count": 16,
   "metadata": {
    "colab": {
     "base_uri": "https://localhost:8080/"
    },
    "id": "p1dlxcNYE8tv",
    "outputId": "f3ad7393-11fe-4829-a701-eed98044d0ae"
   },
   "outputs": [
    {
     "name": "stdout",
     "output_type": "stream",
     "text": [
      "[[[4 6 8]\n",
      "  [9 3 1]\n",
      "  [1 8 5]]]\n",
      "[[[4 6 8]\n",
      "  [9 3 1]\n",
      "  [1 8 5]]]\n"
     ]
    }
   ],
   "source": [
    "# Write a NumPy function to add a new axis to the array 'a' \n",
    "# Note : Show atleast two different ways of doing this \n",
    "#1st method \n",
    "arr = a[np.newaxis]\n",
    "print(arr)\n",
    "#2nd method\n",
    "arr2 = np.expand_dims(a,0)\n",
    "print(arr2)"
   ]
  },
  {
   "cell_type": "markdown",
   "metadata": {
    "id": "Ng4xWkwpFtao"
   },
   "source": [
    "### Indexing and slicing\n",
    "- NumPy allows indexing array using tuple of nonnegative integers, booleans, array or integers"
   ]
  },
  {
   "cell_type": "code",
   "execution_count": 17,
   "metadata": {
    "colab": {
     "base_uri": "https://localhost:8080/"
    },
    "id": "swrtOhPGGB7r",
    "outputId": "e8b35287-5639-4a84-d4ee-88fa103417b9"
   },
   "outputs": [
    {
     "data": {
      "text/plain": [
       "array([[4, 6, 0],\n",
       "       [0, 3, 1],\n",
       "       [1, 8, 5]])"
      ]
     },
     "execution_count": 17,
     "metadata": {},
     "output_type": "execute_result"
    }
   ],
   "source": [
    "a = np.array([[4,6,0], [0, 3, 1], [1, 8, 5]])\n",
    "a"
   ]
  },
  {
   "cell_type": "code",
   "execution_count": 18,
   "metadata": {
    "colab": {
     "base_uri": "https://localhost:8080/"
    },
    "id": "w3QaVYRyFs77",
    "outputId": "79d45dc2-cd1f-402e-9174-98fb49ddf534"
   },
   "outputs": [
    {
     "name": "stdout",
     "output_type": "stream",
     "text": [
      "4\n",
      "[4 6 0]\n",
      "[4 0 1]\n",
      "4\n",
      "[4 6 0]\n",
      "0\n",
      "[[4 6 0]\n",
      " [0 3 1]]\n",
      "[[4 6]\n",
      " [0 3]\n",
      " [1 8]]\n"
     ]
    }
   ],
   "source": [
    "# Write a NumPy function to index and slice NumPy arrays similar to Python lists\n",
    "# Show all three - indexing by a integer, indexing by a tuple, using range\n",
    "#indexing by a integer\n",
    "print(a[0,0]) # element at (0,0)\n",
    "print(a[0]) # 1st row\n",
    "print(a[:,0]) #1st column\n",
    "#indexing by a tuple(we cannot slice inside tuple it will give an error)\n",
    "print(a[(0,0)])#element at (0,0)\n",
    "print(a[(0)]) #1st row\n",
    "print(a[(0,2)])#element at (0,2)\n",
    "#indexing using range\n",
    "print(a[0:2,:])\n",
    "print(a[:,0:2])"
   ]
  },
  {
   "cell_type": "code",
   "execution_count": 19,
   "metadata": {
    "colab": {
     "base_uri": "https://localhost:8080/"
    },
    "id": "Xn2_z5h-Fmrd",
    "outputId": "4886b206-284c-4117-b5a2-bcbfbe759000"
   },
   "outputs": [
    {
     "name": "stdout",
     "output_type": "stream",
     "text": [
      "[6 8 5]\n",
      "[6 8]\n"
     ]
    }
   ],
   "source": [
    "# Write a NumPy function to select values satisfying a specific condition like Values greater than 4 \n",
    "arr = a>4\n",
    "print(a[arr])\n",
    "# Write a NumPy function to select values satisfying mulitple conditions like Values greater than 4 and divisible by 2\n",
    "arr1 = a>4\n",
    "arr2 = a[arr1]\n",
    "arr3 = (arr2%2==0) \n",
    "print(arr2[arr3])"
   ]
  },
  {
   "cell_type": "markdown",
   "metadata": {
    "id": "GWU0EfaAG2ll"
   },
   "source": [
    "### Copying arrays\n",
    "- new array object with a copy of the data\n",
    "- Changes made in the copy array is not reflected in the original array"
   ]
  },
  {
   "cell_type": "code",
   "execution_count": 20,
   "metadata": {
    "id": "ijdgy02lHMJW"
   },
   "outputs": [],
   "source": [
    "a = np.array([[4,6,0], [0, 3, 1], [1, 8, 5]])"
   ]
  },
  {
   "cell_type": "code",
   "execution_count": 21,
   "metadata": {
    "colab": {
     "base_uri": "https://localhost:8080/"
    },
    "id": "FmgUdh66GuQH",
    "outputId": "e1d4508c-ab43-4601-af6d-2d5ad9dbfe72"
   },
   "outputs": [
    {
     "name": "stdout",
     "output_type": "stream",
     "text": [
      "[[5 7 1]\n",
      " [1 4 2]\n",
      " [2 9 6]]\n"
     ]
    }
   ],
   "source": [
    "# Write a NumPy function to copy the array 'a' and finally print an array where all elements are increased by 1\n",
    "c = a.copy()\n",
    "c = a+1\n",
    "print(c)"
   ]
  },
  {
   "cell_type": "markdown",
   "metadata": {
    "id": "M1KLD5QxHsVw"
   },
   "source": [
    "## Pandas ( Python Data Analysis Library)\n",
    "\n",
    "### Main Features\n",
    "- Easy handling of missing data in both floating point and non-floating point data.\n",
    "- Automatic and explicit data alignment, making it easy to perform computations and transformations on data sets.\n",
    "\n"
   ]
  },
  {
   "cell_type": "markdown",
   "metadata": {
    "id": "v1CuU3FeIq1a"
   },
   "source": [
    "#### Generating the dataset "
   ]
  },
  {
   "cell_type": "markdown",
   "metadata": {
    "id": "fp36ZqOMIy7k"
   },
   "source": [
    "Run the following load command to get the 2-Dim iris dataset. Do the following operations on it and please dont edit this cell"
   ]
  },
  {
   "cell_type": "code",
   "execution_count": 22,
   "metadata": {
    "id": "A_O5RTBXIyK-"
   },
   "outputs": [],
   "source": [
    "url = 'https://archive.ics.uci.edu/ml/machine-learning-databases/iris/iris.data'\n",
    "iris_2d = np.genfromtxt(url, delimiter=',', dtype='float', usecols=[0,1,2,3])"
   ]
  },
  {
   "cell_type": "markdown",
   "metadata": {
    "id": "EILb6pPrS8Ju"
   },
   "source": [
    "#### Basic Data Analysis"
   ]
  },
  {
   "cell_type": "code",
   "execution_count": 23,
   "metadata": {
    "colab": {
     "base_uri": "https://localhost:8080/",
     "height": 423
    },
    "id": "bViO1LLoI7sz",
    "outputId": "ecde29a7-b4c9-4eec-d78b-83fc20161cba"
   },
   "outputs": [
    {
     "data": {
      "text/html": [
       "\n",
       "  <div id=\"df-fcfd4b23-5822-473b-bba8-b4f127bd8708\">\n",
       "    <div class=\"colab-df-container\">\n",
       "      <div>\n",
       "<style scoped>\n",
       "    .dataframe tbody tr th:only-of-type {\n",
       "        vertical-align: middle;\n",
       "    }\n",
       "\n",
       "    .dataframe tbody tr th {\n",
       "        vertical-align: top;\n",
       "    }\n",
       "\n",
       "    .dataframe thead th {\n",
       "        text-align: right;\n",
       "    }\n",
       "</style>\n",
       "<table border=\"1\" class=\"dataframe\">\n",
       "  <thead>\n",
       "    <tr style=\"text-align: right;\">\n",
       "      <th></th>\n",
       "      <th>0</th>\n",
       "      <th>1</th>\n",
       "      <th>2</th>\n",
       "      <th>3</th>\n",
       "    </tr>\n",
       "  </thead>\n",
       "  <tbody>\n",
       "    <tr>\n",
       "      <th>0</th>\n",
       "      <td>5.1</td>\n",
       "      <td>3.5</td>\n",
       "      <td>1.4</td>\n",
       "      <td>0.2</td>\n",
       "    </tr>\n",
       "    <tr>\n",
       "      <th>1</th>\n",
       "      <td>4.9</td>\n",
       "      <td>3.0</td>\n",
       "      <td>1.4</td>\n",
       "      <td>0.2</td>\n",
       "    </tr>\n",
       "    <tr>\n",
       "      <th>2</th>\n",
       "      <td>4.7</td>\n",
       "      <td>3.2</td>\n",
       "      <td>1.3</td>\n",
       "      <td>0.2</td>\n",
       "    </tr>\n",
       "    <tr>\n",
       "      <th>3</th>\n",
       "      <td>4.6</td>\n",
       "      <td>3.1</td>\n",
       "      <td>1.5</td>\n",
       "      <td>0.2</td>\n",
       "    </tr>\n",
       "    <tr>\n",
       "      <th>4</th>\n",
       "      <td>5.0</td>\n",
       "      <td>3.6</td>\n",
       "      <td>1.4</td>\n",
       "      <td>0.2</td>\n",
       "    </tr>\n",
       "    <tr>\n",
       "      <th>...</th>\n",
       "      <td>...</td>\n",
       "      <td>...</td>\n",
       "      <td>...</td>\n",
       "      <td>...</td>\n",
       "    </tr>\n",
       "    <tr>\n",
       "      <th>145</th>\n",
       "      <td>6.7</td>\n",
       "      <td>3.0</td>\n",
       "      <td>5.2</td>\n",
       "      <td>2.3</td>\n",
       "    </tr>\n",
       "    <tr>\n",
       "      <th>146</th>\n",
       "      <td>6.3</td>\n",
       "      <td>2.5</td>\n",
       "      <td>5.0</td>\n",
       "      <td>1.9</td>\n",
       "    </tr>\n",
       "    <tr>\n",
       "      <th>147</th>\n",
       "      <td>6.5</td>\n",
       "      <td>3.0</td>\n",
       "      <td>5.2</td>\n",
       "      <td>2.0</td>\n",
       "    </tr>\n",
       "    <tr>\n",
       "      <th>148</th>\n",
       "      <td>6.2</td>\n",
       "      <td>3.4</td>\n",
       "      <td>5.4</td>\n",
       "      <td>2.3</td>\n",
       "    </tr>\n",
       "    <tr>\n",
       "      <th>149</th>\n",
       "      <td>5.9</td>\n",
       "      <td>3.0</td>\n",
       "      <td>5.1</td>\n",
       "      <td>1.8</td>\n",
       "    </tr>\n",
       "  </tbody>\n",
       "</table>\n",
       "<p>150 rows × 4 columns</p>\n",
       "</div>\n",
       "      <button class=\"colab-df-convert\" onclick=\"convertToInteractive('df-fcfd4b23-5822-473b-bba8-b4f127bd8708')\"\n",
       "              title=\"Convert this dataframe to an interactive table.\"\n",
       "              style=\"display:none;\">\n",
       "        \n",
       "  <svg xmlns=\"http://www.w3.org/2000/svg\" height=\"24px\"viewBox=\"0 0 24 24\"\n",
       "       width=\"24px\">\n",
       "    <path d=\"M0 0h24v24H0V0z\" fill=\"none\"/>\n",
       "    <path d=\"M18.56 5.44l.94 2.06.94-2.06 2.06-.94-2.06-.94-.94-2.06-.94 2.06-2.06.94zm-11 1L8.5 8.5l.94-2.06 2.06-.94-2.06-.94L8.5 2.5l-.94 2.06-2.06.94zm10 10l.94 2.06.94-2.06 2.06-.94-2.06-.94-.94-2.06-.94 2.06-2.06.94z\"/><path d=\"M17.41 7.96l-1.37-1.37c-.4-.4-.92-.59-1.43-.59-.52 0-1.04.2-1.43.59L10.3 9.45l-7.72 7.72c-.78.78-.78 2.05 0 2.83L4 21.41c.39.39.9.59 1.41.59.51 0 1.02-.2 1.41-.59l7.78-7.78 2.81-2.81c.8-.78.8-2.07 0-2.86zM5.41 20L4 18.59l7.72-7.72 1.47 1.35L5.41 20z\"/>\n",
       "  </svg>\n",
       "      </button>\n",
       "      \n",
       "  <style>\n",
       "    .colab-df-container {\n",
       "      display:flex;\n",
       "      flex-wrap:wrap;\n",
       "      gap: 12px;\n",
       "    }\n",
       "\n",
       "    .colab-df-convert {\n",
       "      background-color: #E8F0FE;\n",
       "      border: none;\n",
       "      border-radius: 50%;\n",
       "      cursor: pointer;\n",
       "      display: none;\n",
       "      fill: #1967D2;\n",
       "      height: 32px;\n",
       "      padding: 0 0 0 0;\n",
       "      width: 32px;\n",
       "    }\n",
       "\n",
       "    .colab-df-convert:hover {\n",
       "      background-color: #E2EBFA;\n",
       "      box-shadow: 0px 1px 2px rgba(60, 64, 67, 0.3), 0px 1px 3px 1px rgba(60, 64, 67, 0.15);\n",
       "      fill: #174EA6;\n",
       "    }\n",
       "\n",
       "    [theme=dark] .colab-df-convert {\n",
       "      background-color: #3B4455;\n",
       "      fill: #D2E3FC;\n",
       "    }\n",
       "\n",
       "    [theme=dark] .colab-df-convert:hover {\n",
       "      background-color: #434B5C;\n",
       "      box-shadow: 0px 1px 3px 1px rgba(0, 0, 0, 0.15);\n",
       "      filter: drop-shadow(0px 1px 2px rgba(0, 0, 0, 0.3));\n",
       "      fill: #FFFFFF;\n",
       "    }\n",
       "  </style>\n",
       "\n",
       "      <script>\n",
       "        const buttonEl =\n",
       "          document.querySelector('#df-fcfd4b23-5822-473b-bba8-b4f127bd8708 button.colab-df-convert');\n",
       "        buttonEl.style.display =\n",
       "          google.colab.kernel.accessAllowed ? 'block' : 'none';\n",
       "\n",
       "        async function convertToInteractive(key) {\n",
       "          const element = document.querySelector('#df-fcfd4b23-5822-473b-bba8-b4f127bd8708');\n",
       "          const dataTable =\n",
       "            await google.colab.kernel.invokeFunction('convertToInteractive',\n",
       "                                                     [key], {});\n",
       "          if (!dataTable) return;\n",
       "\n",
       "          const docLinkHtml = 'Like what you see? Visit the ' +\n",
       "            '<a target=\"_blank\" href=https://colab.research.google.com/notebooks/data_table.ipynb>data table notebook</a>'\n",
       "            + ' to learn more about interactive tables.';\n",
       "          element.innerHTML = '';\n",
       "          dataTable['output_type'] = 'display_data';\n",
       "          await google.colab.output.renderOutput(dataTable, element);\n",
       "          const docLink = document.createElement('div');\n",
       "          docLink.innerHTML = docLinkHtml;\n",
       "          element.appendChild(docLink);\n",
       "        }\n",
       "      </script>\n",
       "    </div>\n",
       "  </div>\n",
       "  "
      ],
      "text/plain": [
       "       0    1    2    3\n",
       "0    5.1  3.5  1.4  0.2\n",
       "1    4.9  3.0  1.4  0.2\n",
       "2    4.7  3.2  1.3  0.2\n",
       "3    4.6  3.1  1.5  0.2\n",
       "4    5.0  3.6  1.4  0.2\n",
       "..   ...  ...  ...  ...\n",
       "145  6.7  3.0  5.2  2.3\n",
       "146  6.3  2.5  5.0  1.9\n",
       "147  6.5  3.0  5.2  2.0\n",
       "148  6.2  3.4  5.4  2.3\n",
       "149  5.9  3.0  5.1  1.8\n",
       "\n",
       "[150 rows x 4 columns]"
      ]
     },
     "execution_count": 23,
     "metadata": {},
     "output_type": "execute_result"
    }
   ],
   "source": [
    "# Write a Pandas function to drop rows that contain a missing value. \n",
    "import pandas as pd\n",
    "df = pd.DataFrame(iris_2d)\n",
    "df.dropna()"
   ]
  },
  {
   "cell_type": "code",
   "execution_count": 24,
   "metadata": {
    "colab": {
     "base_uri": "https://localhost:8080/"
    },
    "id": "zp_BYv5EJDjJ",
    "outputId": "6f14372e-514f-4491-b6f6-8560a134cc96"
   },
   "outputs": [
    {
     "data": {
      "text/plain": [
       "-0.10936924995064937"
      ]
     },
     "execution_count": 24,
     "metadata": {},
     "output_type": "execute_result"
    }
   ],
   "source": [
    "# Write a Pandas function to find the correlation between the first two columns.\n",
    "df[0].corr(df[1])"
   ]
  },
  {
   "cell_type": "code",
   "execution_count": 25,
   "metadata": {
    "colab": {
     "base_uri": "https://localhost:8080/"
    },
    "id": "0mjeoZCwJDoW",
    "outputId": "e6b1669b-3b5d-4037-8422-ab0e88862cc7"
   },
   "outputs": [
    {
     "name": "stdout",
     "output_type": "stream",
     "text": [
      "1.1986666666666668\n",
      "1.3\n",
      "0.7631607417008411\n"
     ]
    }
   ],
   "source": [
    "# Write a Pandas function to find the mean, median and standard deviation of column 3.\n",
    "print(df[3].mean())\n",
    "print(df[3].median())\n",
    "print(df[3].std())"
   ]
  },
  {
   "cell_type": "code",
   "execution_count": 26,
   "metadata": {
    "colab": {
     "base_uri": "https://localhost:8080/"
    },
    "id": "bRiYEhWTJDrM",
    "outputId": "af4a6408-64a2-492f-a5d2-f64449e30a11"
   },
   "outputs": [
    {
     "data": {
      "text/plain": [
       "array([[5.10000000e+00, 3.50000000e+00, 1.40000000e+00, 2.00000000e-01,\n",
       "        3.81326516e+01],\n",
       "       [4.90000000e+00, 3.00000000e+00, 1.40000000e+00, 2.00000000e-01,\n",
       "        3.52004985e+01],\n",
       "       [4.70000000e+00, 3.20000000e+00, 1.30000000e+00, 2.00000000e-01,\n",
       "        3.00723721e+01],\n",
       "       [4.60000000e+00, 3.10000000e+00, 1.50000000e+00, 2.00000000e-01,\n",
       "        3.32380503e+01],\n",
       "       [5.00000000e+00, 3.60000000e+00, 1.40000000e+00, 2.00000000e-01,\n",
       "        3.66519143e+01],\n",
       "       [5.40000000e+00, 3.90000000e+00, 1.70000000e+00, 4.00000000e-01,\n",
       "        5.19116770e+01],\n",
       "       [4.60000000e+00, 3.40000000e+00, 1.40000000e+00, 3.00000000e-01,\n",
       "        3.10221803e+01],\n",
       "       [5.00000000e+00, 3.40000000e+00, 1.50000000e+00, 2.00000000e-01,\n",
       "        3.92699082e+01],\n",
       "       [4.40000000e+00, 2.90000000e+00, 1.40000000e+00, 2.00000000e-01,\n",
       "        2.83832424e+01],\n",
       "       [4.90000000e+00, 3.10000000e+00, 1.50000000e+00, 1.00000000e-01,\n",
       "        3.77148198e+01],\n",
       "       [5.40000000e+00, 3.70000000e+00, 1.50000000e+00, 2.00000000e-01,\n",
       "        4.58044209e+01],\n",
       "       [4.80000000e+00, 3.40000000e+00, 1.60000000e+00, 2.00000000e-01,\n",
       "        3.86038905e+01],\n",
       "       [4.80000000e+00, 3.00000000e+00, 1.40000000e+00, 1.00000000e-01,\n",
       "        3.37784042e+01],\n",
       "       [4.30000000e+00, 3.00000000e+00, 1.10000000e+00, 1.00000000e-01,\n",
       "        2.12989510e+01],\n",
       "       [5.80000000e+00, 4.00000000e+00, 1.20000000e+00, 2.00000000e-01,\n",
       "        4.22732707e+01],\n",
       "       [5.70000000e+00, 4.40000000e+00, 1.50000000e+00, 4.00000000e-01,\n",
       "        5.10351727e+01],\n",
       "       [5.40000000e+00, 3.90000000e+00, 1.30000000e+00, 4.00000000e-01,\n",
       "        3.96971648e+01],\n",
       "       [5.10000000e+00, 3.50000000e+00, 1.40000000e+00, 3.00000000e-01,\n",
       "        3.81326516e+01],\n",
       "       [5.70000000e+00, 3.80000000e+00, 1.70000000e+00, 3.00000000e-01,\n",
       "        5.78398623e+01],\n",
       "       [5.10000000e+00, 3.80000000e+00, 1.50000000e+00, 3.00000000e-01,\n",
       "        4.08564125e+01],\n",
       "       [5.40000000e+00, 3.40000000e+00, 1.70000000e+00, 2.00000000e-01,\n",
       "        5.19116770e+01],\n",
       "       [5.10000000e+00, 3.70000000e+00, 1.50000000e+00, 4.00000000e-01,\n",
       "        4.08564125e+01],\n",
       "       [4.60000000e+00, 3.60000000e+00, 1.00000000e+00, 2.00000000e-01,\n",
       "        2.21587002e+01],\n",
       "       [5.10000000e+00, 3.30000000e+00, 1.70000000e+00, 5.00000000e-01,\n",
       "        4.63039341e+01],\n",
       "       [4.80000000e+00, 3.40000000e+00, 1.90000000e+00, 2.00000000e-01,\n",
       "        4.58421200e+01],\n",
       "       [5.00000000e+00, 3.00000000e+00, 1.60000000e+00, 2.00000000e-01,\n",
       "        4.18879020e+01],\n",
       "       [5.00000000e+00, 3.40000000e+00, 1.60000000e+00, 4.00000000e-01,\n",
       "        4.18879020e+01],\n",
       "       [5.20000000e+00, 3.50000000e+00, 1.50000000e+00, 2.00000000e-01,\n",
       "        4.24743327e+01],\n",
       "       [5.20000000e+00, 3.40000000e+00, 1.40000000e+00, 2.00000000e-01,\n",
       "        3.96427105e+01],\n",
       "       [4.70000000e+00, 3.20000000e+00, 1.60000000e+00, 2.00000000e-01,\n",
       "        3.70121502e+01],\n",
       "       [4.80000000e+00, 3.10000000e+00, 1.60000000e+00, 2.00000000e-01,\n",
       "        3.86038905e+01],\n",
       "       [5.40000000e+00, 3.40000000e+00, 1.50000000e+00, 4.00000000e-01,\n",
       "        4.58044209e+01],\n",
       "       [5.20000000e+00, 4.10000000e+00, 1.50000000e+00, 1.00000000e-01,\n",
       "        4.24743327e+01],\n",
       "       [5.50000000e+00, 4.20000000e+00, 1.40000000e+00, 2.00000000e-01,\n",
       "        4.43488163e+01],\n",
       "       [4.90000000e+00, 3.10000000e+00, 1.50000000e+00, 1.00000000e-01,\n",
       "        3.77148198e+01],\n",
       "       [5.00000000e+00, 3.20000000e+00, 1.20000000e+00, 2.00000000e-01,\n",
       "        3.14159265e+01],\n",
       "       [5.50000000e+00, 3.50000000e+00, 1.30000000e+00, 2.00000000e-01,\n",
       "        4.11810437e+01],\n",
       "       [4.90000000e+00, 3.10000000e+00, 1.50000000e+00, 1.00000000e-01,\n",
       "        3.77148198e+01],\n",
       "       [4.40000000e+00, 3.00000000e+00, 1.30000000e+00, 2.00000000e-01,\n",
       "        2.63558680e+01],\n",
       "       [5.10000000e+00, 3.40000000e+00, 1.50000000e+00, 2.00000000e-01,\n",
       "        4.08564125e+01],\n",
       "       [5.00000000e+00, 3.50000000e+00, 1.30000000e+00, 3.00000000e-01,\n",
       "        3.40339204e+01],\n",
       "       [4.50000000e+00, 2.30000000e+00, 1.30000000e+00, 3.00000000e-01,\n",
       "        2.75674755e+01],\n",
       "       [4.40000000e+00, 3.20000000e+00, 1.30000000e+00, 2.00000000e-01,\n",
       "        2.63558680e+01],\n",
       "       [5.00000000e+00, 3.50000000e+00, 1.60000000e+00, 6.00000000e-01,\n",
       "        4.18879020e+01],\n",
       "       [5.10000000e+00, 3.80000000e+00, 1.90000000e+00, 4.00000000e-01,\n",
       "        5.17514558e+01],\n",
       "       [4.80000000e+00, 3.00000000e+00, 1.40000000e+00, 3.00000000e-01,\n",
       "        3.37784042e+01],\n",
       "       [5.10000000e+00, 3.80000000e+00, 1.60000000e+00, 2.00000000e-01,\n",
       "        4.35801733e+01],\n",
       "       [4.60000000e+00, 3.20000000e+00, 1.40000000e+00, 2.00000000e-01,\n",
       "        3.10221803e+01],\n",
       "       [5.30000000e+00, 3.70000000e+00, 1.50000000e+00, 2.00000000e-01,\n",
       "        4.41236688e+01],\n",
       "       [5.00000000e+00, 3.30000000e+00, 1.40000000e+00, 2.00000000e-01,\n",
       "        3.66519143e+01],\n",
       "       [7.00000000e+00, 3.20000000e+00, 4.70000000e+00, 1.40000000e+00,\n",
       "        2.41169596e+02],\n",
       "       [6.40000000e+00, 3.20000000e+00, 4.50000000e+00, 1.50000000e+00,\n",
       "        1.93019453e+02],\n",
       "       [6.90000000e+00, 3.10000000e+00, 4.90000000e+00, 1.50000000e+00,\n",
       "        2.44299670e+02],\n",
       "       [5.50000000e+00, 2.30000000e+00, 4.00000000e+00, 1.30000000e+00,\n",
       "        1.26710904e+02],\n",
       "       [6.50000000e+00, 2.80000000e+00, 4.60000000e+00, 1.50000000e+00,\n",
       "        2.03522844e+02],\n",
       "       [5.70000000e+00, 2.80000000e+00, 4.50000000e+00, 1.30000000e+00,\n",
       "        1.53105518e+02],\n",
       "       [6.30000000e+00, 3.30000000e+00, 4.70000000e+00, 1.60000000e+00,\n",
       "        1.95347373e+02],\n",
       "       [4.90000000e+00, 2.40000000e+00, 3.30000000e+00, 1.00000000e+00,\n",
       "        8.29726036e+01],\n",
       "       [6.60000000e+00, 2.90000000e+00, 4.60000000e+00, 1.30000000e+00,\n",
       "        2.09833257e+02],\n",
       "       [5.20000000e+00, 2.70000000e+00, 3.90000000e+00, 1.40000000e+00,\n",
       "        1.10433265e+02],\n",
       "       [5.00000000e+00, 2.00000000e+00, 3.50000000e+00, 1.00000000e+00,\n",
       "        9.16297857e+01],\n",
       "       [5.90000000e+00, 3.00000000e+00, 4.20000000e+00, 1.50000000e+00,\n",
       "        1.53102376e+02],\n",
       "       [6.00000000e+00, 2.20000000e+00, 4.00000000e+00, 1.00000000e+00,\n",
       "        1.50796447e+02],\n",
       "       [6.10000000e+00, 2.90000000e+00, 4.70000000e+00, 1.40000000e+00,\n",
       "        1.83141238e+02],\n",
       "       [5.60000000e+00, 2.90000000e+00, 3.60000000e+00, 1.30000000e+00,\n",
       "        1.18224415e+02],\n",
       "       [6.70000000e+00, 3.10000000e+00, 4.40000000e+00, 1.40000000e+00,\n",
       "        2.06838272e+02],\n",
       "       [5.60000000e+00, 3.00000000e+00, 4.50000000e+00, 1.50000000e+00,\n",
       "        1.47780518e+02],\n",
       "       [5.80000000e+00, 2.70000000e+00, 4.10000000e+00, 1.00000000e+00,\n",
       "        1.44433675e+02],\n",
       "       [6.20000000e+00, 2.20000000e+00, 4.50000000e+00, 1.50000000e+00,\n",
       "        1.81144232e+02],\n",
       "       [5.60000000e+00, 2.50000000e+00, 3.90000000e+00, 1.10000000e+00,\n",
       "        1.28076449e+02],\n",
       "       [5.90000000e+00, 3.20000000e+00, 4.80000000e+00, 1.80000000e+00,\n",
       "        1.74974144e+02],\n",
       "       [6.10000000e+00, 2.80000000e+00, 4.00000000e+00, 1.30000000e+00,\n",
       "        1.55864884e+02],\n",
       "       [6.30000000e+00, 2.50000000e+00, 4.90000000e+00, 1.50000000e+00,\n",
       "        2.03660027e+02],\n",
       "       [6.10000000e+00, 2.80000000e+00, 4.70000000e+00, 1.20000000e+00,\n",
       "        1.83141238e+02],\n",
       "       [6.40000000e+00, 2.90000000e+00, 4.30000000e+00, 1.30000000e+00,\n",
       "        1.84440810e+02],\n",
       "       [6.60000000e+00, 3.00000000e+00, 4.40000000e+00, 1.40000000e+00,\n",
       "        2.00710071e+02],\n",
       "       [6.80000000e+00, 2.80000000e+00, 4.80000000e+00, 1.40000000e+00,\n",
       "        2.32427591e+02],\n",
       "       [6.70000000e+00, 3.00000000e+00, 5.00000000e+00, 1.70000000e+00,\n",
       "        2.35043490e+02],\n",
       "       [6.00000000e+00, 2.90000000e+00, 4.50000000e+00, 1.50000000e+00,\n",
       "        1.69646003e+02],\n",
       "       [5.70000000e+00, 2.60000000e+00, 3.50000000e+00, 1.00000000e+00,\n",
       "        1.19082070e+02],\n",
       "       [5.50000000e+00, 2.40000000e+00, 3.80000000e+00, 1.10000000e+00,\n",
       "        1.20375359e+02],\n",
       "       [5.50000000e+00, 2.40000000e+00, 3.70000000e+00, 1.00000000e+00,\n",
       "        1.17207586e+02],\n",
       "       [5.80000000e+00, 2.70000000e+00, 3.90000000e+00, 1.20000000e+00,\n",
       "        1.37388130e+02],\n",
       "       [6.00000000e+00, 2.70000000e+00, 5.10000000e+00, 1.60000000e+00,\n",
       "        1.92265470e+02],\n",
       "       [5.40000000e+00, 3.00000000e+00, 4.50000000e+00, 1.50000000e+00,\n",
       "        1.37413263e+02],\n",
       "       [6.00000000e+00, 3.40000000e+00, 4.50000000e+00, 1.60000000e+00,\n",
       "        1.69646003e+02],\n",
       "       [6.70000000e+00, 3.10000000e+00, 4.70000000e+00, 1.50000000e+00,\n",
       "        2.20940881e+02],\n",
       "       [6.30000000e+00, 2.30000000e+00, 4.40000000e+00, 1.30000000e+00,\n",
       "        1.82878392e+02],\n",
       "       [5.60000000e+00, 3.00000000e+00, 4.10000000e+00, 1.30000000e+00,\n",
       "        1.34644472e+02],\n",
       "       [5.50000000e+00, 2.50000000e+00, 4.00000000e+00, 1.30000000e+00,\n",
       "        1.26710904e+02],\n",
       "       [5.50000000e+00, 2.60000000e+00, 4.40000000e+00, 1.20000000e+00,\n",
       "        1.39381994e+02],\n",
       "       [6.10000000e+00, 3.00000000e+00, 4.60000000e+00, 1.40000000e+00,\n",
       "        1.79244616e+02],\n",
       "       [5.80000000e+00, 2.60000000e+00, 4.00000000e+00, 1.20000000e+00,\n",
       "        1.40910902e+02],\n",
       "       [5.00000000e+00, 2.30000000e+00, 3.30000000e+00, 1.00000000e+00,\n",
       "        8.63937980e+01],\n",
       "       [5.60000000e+00, 2.70000000e+00, 4.20000000e+00, 1.30000000e+00,\n",
       "        1.37928484e+02],\n",
       "       [5.70000000e+00, 3.00000000e+00, 4.20000000e+00, 1.20000000e+00,\n",
       "        1.42898483e+02],\n",
       "       [5.70000000e+00, 2.90000000e+00, 4.20000000e+00, 1.30000000e+00,\n",
       "        1.42898483e+02],\n",
       "       [6.20000000e+00, 2.90000000e+00, 4.30000000e+00, 1.30000000e+00,\n",
       "        1.73093378e+02],\n",
       "       [5.10000000e+00, 2.50000000e+00, 3.00000000e+00, 1.10000000e+00,\n",
       "        8.17128249e+01],\n",
       "       [5.70000000e+00, 2.80000000e+00, 4.10000000e+00, 1.30000000e+00,\n",
       "        1.39496139e+02],\n",
       "       [6.30000000e+00, 3.30000000e+00, 6.00000000e+00, 2.50000000e+00,\n",
       "        2.49379625e+02],\n",
       "       [5.80000000e+00, 2.70000000e+00, 5.10000000e+00, 1.90000000e+00,\n",
       "        1.79661401e+02],\n",
       "       [7.10000000e+00, 3.00000000e+00, 5.90000000e+00, 2.10000000e+00,\n",
       "        3.11456448e+02],\n",
       "       [6.30000000e+00, 2.90000000e+00, 5.60000000e+00, 1.80000000e+00,\n",
       "        2.32754317e+02],\n",
       "       [6.50000000e+00, 3.00000000e+00, 5.80000000e+00, 2.20000000e+00,\n",
       "        2.56615760e+02],\n",
       "       [7.60000000e+00, 3.00000000e+00, 6.60000000e+00, 2.10000000e+00,\n",
       "        3.99208462e+02],\n",
       "       [4.90000000e+00, 2.50000000e+00, 4.50000000e+00, 1.70000000e+00,\n",
       "        1.13144459e+02],\n",
       "       [7.30000000e+00, 2.90000000e+00, 6.30000000e+00, 1.80000000e+00,\n",
       "        3.51572492e+02],\n",
       "       [6.70000000e+00, 2.50000000e+00, 5.80000000e+00, 1.80000000e+00,\n",
       "        2.72650449e+02],\n",
       "       [7.20000000e+00, 3.60000000e+00, 6.10000000e+00, 2.50000000e+00,\n",
       "        3.31148998e+02],\n",
       "       [6.50000000e+00, 3.20000000e+00, 5.10000000e+00, 2.00000000e+00,\n",
       "        2.25644892e+02],\n",
       "       [6.40000000e+00, 2.70000000e+00, 5.30000000e+00, 1.90000000e+00,\n",
       "        2.27334022e+02],\n",
       "       [6.80000000e+00, 3.00000000e+00, 5.50000000e+00, 2.10000000e+00,\n",
       "        2.66323281e+02],\n",
       "       [5.70000000e+00, 2.50000000e+00, 5.00000000e+00, 2.00000000e+00,\n",
       "        1.70117242e+02],\n",
       "       [5.80000000e+00, 2.80000000e+00, 5.10000000e+00, 2.40000000e+00,\n",
       "        1.79661401e+02],\n",
       "       [6.40000000e+00, 3.20000000e+00, 5.30000000e+00, 2.30000000e+00,\n",
       "        2.27334022e+02],\n",
       "       [6.50000000e+00, 3.00000000e+00, 5.50000000e+00, 1.80000000e+00,\n",
       "        2.43342531e+02],\n",
       "       [7.70000000e+00, 3.80000000e+00, 6.70000000e+00, 2.20000000e+00,\n",
       "        4.15991897e+02],\n",
       "       [7.70000000e+00, 2.60000000e+00, 6.90000000e+00, 2.30000000e+00,\n",
       "        4.28409565e+02],\n",
       "       [6.00000000e+00, 2.20000000e+00, 5.00000000e+00, 1.50000000e+00,\n",
       "        1.88495559e+02],\n",
       "       [6.90000000e+00, 3.20000000e+00, 5.70000000e+00, 2.30000000e+00,\n",
       "        2.84185330e+02],\n",
       "       [5.60000000e+00, 2.80000000e+00, 4.90000000e+00, 2.00000000e+00,\n",
       "        1.60916565e+02],\n",
       "       [7.70000000e+00, 2.80000000e+00, 6.70000000e+00, 2.00000000e+00,\n",
       "        4.15991897e+02],\n",
       "       [6.30000000e+00, 2.70000000e+00, 4.90000000e+00, 1.80000000e+00,\n",
       "        2.03660027e+02],\n",
       "       [6.70000000e+00, 3.30000000e+00, 5.70000000e+00, 2.10000000e+00,\n",
       "        2.67949579e+02],\n",
       "       [7.20000000e+00, 3.20000000e+00, 6.00000000e+00, 1.80000000e+00,\n",
       "        3.25720326e+02],\n",
       "       [6.20000000e+00, 2.80000000e+00, 4.80000000e+00, 1.80000000e+00,\n",
       "        1.93220515e+02],\n",
       "       [6.10000000e+00, 3.00000000e+00, 4.90000000e+00, 1.80000000e+00,\n",
       "        1.90934482e+02],\n",
       "       [6.40000000e+00, 2.80000000e+00, 5.60000000e+00, 2.10000000e+00,\n",
       "        2.40201986e+02],\n",
       "       [7.20000000e+00, 3.00000000e+00, 5.80000000e+00, 1.60000000e+00,\n",
       "        3.14862982e+02],\n",
       "       [7.40000000e+00, 2.80000000e+00, 6.10000000e+00, 1.90000000e+00,\n",
       "        3.49801681e+02],\n",
       "       [7.90000000e+00, 3.80000000e+00, 6.40000000e+00, 2.00000000e+00,\n",
       "        4.18275835e+02],\n",
       "       [6.40000000e+00, 2.80000000e+00, 5.60000000e+00, 2.20000000e+00,\n",
       "        2.40201986e+02],\n",
       "       [6.30000000e+00, 2.80000000e+00, 5.10000000e+00, 1.50000000e+00,\n",
       "        2.11972681e+02],\n",
       "       [6.10000000e+00, 2.60000000e+00, 5.60000000e+00, 1.40000000e+00,\n",
       "        2.18210837e+02],\n",
       "       [7.70000000e+00, 3.00000000e+00, 6.10000000e+00, 2.30000000e+00,\n",
       "        3.78738891e+02],\n",
       "       [6.30000000e+00, 3.40000000e+00, 5.60000000e+00, 2.40000000e+00,\n",
       "        2.32754317e+02],\n",
       "       [6.40000000e+00, 3.10000000e+00, 5.50000000e+00, 1.80000000e+00,\n",
       "        2.35912664e+02],\n",
       "       [6.00000000e+00, 3.00000000e+00, 4.80000000e+00, 1.80000000e+00,\n",
       "        1.80955737e+02],\n",
       "       [6.90000000e+00, 3.10000000e+00, 5.40000000e+00, 2.10000000e+00,\n",
       "        2.69228207e+02],\n",
       "       [6.70000000e+00, 3.10000000e+00, 5.60000000e+00, 2.40000000e+00,\n",
       "        2.63248709e+02],\n",
       "       [6.90000000e+00, 3.10000000e+00, 5.10000000e+00, 2.30000000e+00,\n",
       "        2.54271085e+02],\n",
       "       [5.80000000e+00, 2.70000000e+00, 5.10000000e+00, 1.90000000e+00,\n",
       "        1.79661401e+02],\n",
       "       [6.80000000e+00, 3.20000000e+00, 5.90000000e+00, 2.30000000e+00,\n",
       "        2.85692247e+02],\n",
       "       [6.70000000e+00, 3.30000000e+00, 5.70000000e+00, 2.50000000e+00,\n",
       "        2.67949579e+02],\n",
       "       [6.70000000e+00, 3.00000000e+00, 5.20000000e+00, 2.30000000e+00,\n",
       "        2.44445230e+02],\n",
       "       [6.30000000e+00, 2.50000000e+00, 5.00000000e+00, 1.90000000e+00,\n",
       "        2.07816354e+02],\n",
       "       [6.50000000e+00, 3.00000000e+00, 5.20000000e+00, 2.00000000e+00,\n",
       "        2.30069302e+02],\n",
       "       [6.20000000e+00, 3.40000000e+00, 5.40000000e+00, 2.30000000e+00,\n",
       "        2.17373079e+02],\n",
       "       [5.90000000e+00, 3.00000000e+00, 5.10000000e+00, 1.80000000e+00,\n",
       "        1.85910028e+02]])"
      ]
     },
     "execution_count": 26,
     "metadata": {},
     "output_type": "execute_result"
    }
   ],
   "source": [
    "# Write a Pandas function to create a new column for volume in iris_2d, where volume is (pi x petallength x sepal_length^2)/3\n",
    "# Hints: \n",
    "# 1. Introduce new dimension to match iris_2d's\n",
    "# 2. Add the new column\n",
    "sl = iris_2d[:,0]\n",
    "pl = iris_2d[:,2]\n",
    "volume = (np.pi*pl*(sl**2))/3\n",
    "volume = np.expand_dims(volume,axis = 1)\n",
    "yes = np.hstack((iris_2d,volume))\n",
    "yes"
   ]
  },
  {
   "cell_type": "markdown",
   "metadata": {
    "id": "dGqrG93ELEQ3"
   },
   "source": [
    "# Section B *(2 Marks each)*"
   ]
  },
  {
   "cell_type": "markdown",
   "metadata": {
    "id": "OLm8jv7tMH6h"
   },
   "source": [
    "###NumPy"
   ]
  },
  {
   "cell_type": "markdown",
   "metadata": {
    "id": "zE1n0x7ZLRLU"
   },
   "source": [
    "Q1 Let x = np.arange(4, dtype=np.int64). Create an array of ones with the same shape and type as X."
   ]
  },
  {
   "cell_type": "code",
   "execution_count": 27,
   "metadata": {
    "id": "H8o9C6b7LJzA"
   },
   "outputs": [],
   "source": [
    "y = np.ones(4,dtype = np.int64)"
   ]
  },
  {
   "cell_type": "markdown",
   "metadata": {
    "id": "PPYeTqoHLSNj"
   },
   "source": [
    "Q2 Let x be an array [1, 2, 3, ..., 9]. Split x into 3 arrays, each of which has 4, 2, and 3 elements in the original order."
   ]
  },
  {
   "cell_type": "code",
   "execution_count": 29,
   "metadata": {
    "colab": {
     "base_uri": "https://localhost:8080/"
    },
    "id": "DS9mr30LLYdg",
    "outputId": "b1bc8623-a41c-4b1d-e469-9373515fd014"
   },
   "outputs": [
    {
     "data": {
      "text/plain": [
       "[array([1, 2, 3, 4]), array([5, 6]), array([7, 8, 9])]"
      ]
     },
     "execution_count": 29,
     "metadata": {},
     "output_type": "execute_result"
    }
   ],
   "source": [
    "x = np.array([1,2,3,4,5,6,7,8,9])\n",
    "newarr = np.array_split(x,[4,6])\n",
    "newarr"
   ]
  },
  {
   "cell_type": "markdown",
   "metadata": {
    "id": "b1wJaooRLXjN"
   },
   "source": [
    "Q3 Initiate x as a 2x5 array with random values from 0 to 10(not inclusive).Get the maximum and minimum values and their indices of x along the second axis."
   ]
  },
  {
   "cell_type": "code",
   "execution_count": 30,
   "metadata": {
    "colab": {
     "base_uri": "https://localhost:8080/"
    },
    "id": "GnXDqksjLf89",
    "outputId": "d88b1ad4-d177-4d0c-8ac3-4482bc980ff7"
   },
   "outputs": [
    {
     "name": "stdout",
     "output_type": "stream",
     "text": [
      "[[1 5 8 0 0]\n",
      " [3 1 3 6 7]]\n",
      "8\n",
      "0\n",
      "2\n",
      "3\n"
     ]
    }
   ],
   "source": [
    "x = np.random.randint(0,10,10)\n",
    "y = x.reshape(2,5)\n",
    "print(y)\n",
    "print(y.max())\n",
    "print(y.min())\n",
    "print(y.argmax())\n",
    "print(y.argmin())"
   ]
  },
  {
   "cell_type": "markdown",
   "metadata": {
    "id": "8_Q7fbyxMMHM"
   },
   "source": [
    "### Pandas"
   ]
  },
  {
   "cell_type": "markdown",
   "metadata": {
    "id": "3QpaFHkxJUho"
   },
   "source": [
    "Run the following load command and solve the following questions"
   ]
  },
  {
   "cell_type": "code",
   "execution_count": 31,
   "metadata": {
    "id": "mLdcY49iJDtl"
   },
   "outputs": [],
   "source": [
    "url = 'https://archive.ics.uci.edu/ml/machine-learning-databases/iris/iris.data'\n",
    "iris = np.genfromtxt(url, delimiter=',', dtype='object')\n",
    "names = ('sepallength', 'sepalwidth', 'petallength', 'petalwidth', 'species')"
   ]
  },
  {
   "cell_type": "markdown",
   "metadata": {
    "id": "zbDepnx9RtV8"
   },
   "source": [
    "Q4 Write a Pandas function to find the count of unique species."
   ]
  },
  {
   "cell_type": "code",
   "execution_count": 32,
   "metadata": {
    "colab": {
     "base_uri": "https://localhost:8080/"
    },
    "id": "oAkO0UnqJDv7",
    "outputId": "f22680d4-e44d-4306-c8a4-62f32d98f929"
   },
   "outputs": [
    {
     "data": {
      "text/plain": [
       "3"
      ]
     },
     "execution_count": 32,
     "metadata": {},
     "output_type": "execute_result"
    }
   ],
   "source": [
    "df = pd.DataFrame(iris, columns = names)\n",
    "df['species'].nunique()"
   ]
  },
  {
   "cell_type": "markdown",
   "metadata": {
    "id": "Usj5HlvyRxal"
   },
   "source": [
    "# Q5 Write a Pandas function to bin the petal length (3rd) column of iris_2d to form a text array, such that if petal length is:\n",
    "- Less than 3 –> ‘small’\n",
    "- 3-5 –> ‘medium’\n",
    "- greater than equal to 5 –> ‘large’"
   ]
  },
  {
   "cell_type": "code",
   "execution_count": 33,
   "metadata": {
    "colab": {
     "base_uri": "https://localhost:8080/",
     "height": 423
    },
    "id": "gTWWJoLMJDxx",
    "outputId": "4dd5cecf-d33e-4829-888b-90c6d72db7c3"
   },
   "outputs": [
    {
     "data": {
      "text/html": [
       "\n",
       "  <div id=\"df-f81ca6a4-2af2-48a7-b911-089d5e3c92d5\">\n",
       "    <div class=\"colab-df-container\">\n",
       "      <div>\n",
       "<style scoped>\n",
       "    .dataframe tbody tr th:only-of-type {\n",
       "        vertical-align: middle;\n",
       "    }\n",
       "\n",
       "    .dataframe tbody tr th {\n",
       "        vertical-align: top;\n",
       "    }\n",
       "\n",
       "    .dataframe thead th {\n",
       "        text-align: right;\n",
       "    }\n",
       "</style>\n",
       "<table border=\"1\" class=\"dataframe\">\n",
       "  <thead>\n",
       "    <tr style=\"text-align: right;\">\n",
       "      <th></th>\n",
       "      <th>0</th>\n",
       "      <th>1</th>\n",
       "      <th>2</th>\n",
       "      <th>3</th>\n",
       "      <th>petal_length</th>\n",
       "    </tr>\n",
       "  </thead>\n",
       "  <tbody>\n",
       "    <tr>\n",
       "      <th>0</th>\n",
       "      <td>5.1</td>\n",
       "      <td>3.5</td>\n",
       "      <td>1.4</td>\n",
       "      <td>0.2</td>\n",
       "      <td>small</td>\n",
       "    </tr>\n",
       "    <tr>\n",
       "      <th>1</th>\n",
       "      <td>4.9</td>\n",
       "      <td>3.0</td>\n",
       "      <td>1.4</td>\n",
       "      <td>0.2</td>\n",
       "      <td>small</td>\n",
       "    </tr>\n",
       "    <tr>\n",
       "      <th>2</th>\n",
       "      <td>4.7</td>\n",
       "      <td>3.2</td>\n",
       "      <td>1.3</td>\n",
       "      <td>0.2</td>\n",
       "      <td>small</td>\n",
       "    </tr>\n",
       "    <tr>\n",
       "      <th>3</th>\n",
       "      <td>4.6</td>\n",
       "      <td>3.1</td>\n",
       "      <td>1.5</td>\n",
       "      <td>0.2</td>\n",
       "      <td>small</td>\n",
       "    </tr>\n",
       "    <tr>\n",
       "      <th>4</th>\n",
       "      <td>5.0</td>\n",
       "      <td>3.6</td>\n",
       "      <td>1.4</td>\n",
       "      <td>0.2</td>\n",
       "      <td>small</td>\n",
       "    </tr>\n",
       "    <tr>\n",
       "      <th>...</th>\n",
       "      <td>...</td>\n",
       "      <td>...</td>\n",
       "      <td>...</td>\n",
       "      <td>...</td>\n",
       "      <td>...</td>\n",
       "    </tr>\n",
       "    <tr>\n",
       "      <th>145</th>\n",
       "      <td>6.7</td>\n",
       "      <td>3.0</td>\n",
       "      <td>5.2</td>\n",
       "      <td>2.3</td>\n",
       "      <td>large</td>\n",
       "    </tr>\n",
       "    <tr>\n",
       "      <th>146</th>\n",
       "      <td>6.3</td>\n",
       "      <td>2.5</td>\n",
       "      <td>5.0</td>\n",
       "      <td>1.9</td>\n",
       "      <td>large</td>\n",
       "    </tr>\n",
       "    <tr>\n",
       "      <th>147</th>\n",
       "      <td>6.5</td>\n",
       "      <td>3.0</td>\n",
       "      <td>5.2</td>\n",
       "      <td>2.0</td>\n",
       "      <td>large</td>\n",
       "    </tr>\n",
       "    <tr>\n",
       "      <th>148</th>\n",
       "      <td>6.2</td>\n",
       "      <td>3.4</td>\n",
       "      <td>5.4</td>\n",
       "      <td>2.3</td>\n",
       "      <td>large</td>\n",
       "    </tr>\n",
       "    <tr>\n",
       "      <th>149</th>\n",
       "      <td>5.9</td>\n",
       "      <td>3.0</td>\n",
       "      <td>5.1</td>\n",
       "      <td>1.8</td>\n",
       "      <td>large</td>\n",
       "    </tr>\n",
       "  </tbody>\n",
       "</table>\n",
       "<p>150 rows × 5 columns</p>\n",
       "</div>\n",
       "      <button class=\"colab-df-convert\" onclick=\"convertToInteractive('df-f81ca6a4-2af2-48a7-b911-089d5e3c92d5')\"\n",
       "              title=\"Convert this dataframe to an interactive table.\"\n",
       "              style=\"display:none;\">\n",
       "        \n",
       "  <svg xmlns=\"http://www.w3.org/2000/svg\" height=\"24px\"viewBox=\"0 0 24 24\"\n",
       "       width=\"24px\">\n",
       "    <path d=\"M0 0h24v24H0V0z\" fill=\"none\"/>\n",
       "    <path d=\"M18.56 5.44l.94 2.06.94-2.06 2.06-.94-2.06-.94-.94-2.06-.94 2.06-2.06.94zm-11 1L8.5 8.5l.94-2.06 2.06-.94-2.06-.94L8.5 2.5l-.94 2.06-2.06.94zm10 10l.94 2.06.94-2.06 2.06-.94-2.06-.94-.94-2.06-.94 2.06-2.06.94z\"/><path d=\"M17.41 7.96l-1.37-1.37c-.4-.4-.92-.59-1.43-.59-.52 0-1.04.2-1.43.59L10.3 9.45l-7.72 7.72c-.78.78-.78 2.05 0 2.83L4 21.41c.39.39.9.59 1.41.59.51 0 1.02-.2 1.41-.59l7.78-7.78 2.81-2.81c.8-.78.8-2.07 0-2.86zM5.41 20L4 18.59l7.72-7.72 1.47 1.35L5.41 20z\"/>\n",
       "  </svg>\n",
       "      </button>\n",
       "      \n",
       "  <style>\n",
       "    .colab-df-container {\n",
       "      display:flex;\n",
       "      flex-wrap:wrap;\n",
       "      gap: 12px;\n",
       "    }\n",
       "\n",
       "    .colab-df-convert {\n",
       "      background-color: #E8F0FE;\n",
       "      border: none;\n",
       "      border-radius: 50%;\n",
       "      cursor: pointer;\n",
       "      display: none;\n",
       "      fill: #1967D2;\n",
       "      height: 32px;\n",
       "      padding: 0 0 0 0;\n",
       "      width: 32px;\n",
       "    }\n",
       "\n",
       "    .colab-df-convert:hover {\n",
       "      background-color: #E2EBFA;\n",
       "      box-shadow: 0px 1px 2px rgba(60, 64, 67, 0.3), 0px 1px 3px 1px rgba(60, 64, 67, 0.15);\n",
       "      fill: #174EA6;\n",
       "    }\n",
       "\n",
       "    [theme=dark] .colab-df-convert {\n",
       "      background-color: #3B4455;\n",
       "      fill: #D2E3FC;\n",
       "    }\n",
       "\n",
       "    [theme=dark] .colab-df-convert:hover {\n",
       "      background-color: #434B5C;\n",
       "      box-shadow: 0px 1px 3px 1px rgba(0, 0, 0, 0.15);\n",
       "      filter: drop-shadow(0px 1px 2px rgba(0, 0, 0, 0.3));\n",
       "      fill: #FFFFFF;\n",
       "    }\n",
       "  </style>\n",
       "\n",
       "      <script>\n",
       "        const buttonEl =\n",
       "          document.querySelector('#df-f81ca6a4-2af2-48a7-b911-089d5e3c92d5 button.colab-df-convert');\n",
       "        buttonEl.style.display =\n",
       "          google.colab.kernel.accessAllowed ? 'block' : 'none';\n",
       "\n",
       "        async function convertToInteractive(key) {\n",
       "          const element = document.querySelector('#df-f81ca6a4-2af2-48a7-b911-089d5e3c92d5');\n",
       "          const dataTable =\n",
       "            await google.colab.kernel.invokeFunction('convertToInteractive',\n",
       "                                                     [key], {});\n",
       "          if (!dataTable) return;\n",
       "\n",
       "          const docLinkHtml = 'Like what you see? Visit the ' +\n",
       "            '<a target=\"_blank\" href=https://colab.research.google.com/notebooks/data_table.ipynb>data table notebook</a>'\n",
       "            + ' to learn more about interactive tables.';\n",
       "          element.innerHTML = '';\n",
       "          dataTable['output_type'] = 'display_data';\n",
       "          await google.colab.output.renderOutput(dataTable, element);\n",
       "          const docLink = document.createElement('div');\n",
       "          docLink.innerHTML = docLinkHtml;\n",
       "          element.appendChild(docLink);\n",
       "        }\n",
       "      </script>\n",
       "    </div>\n",
       "  </div>\n",
       "  "
      ],
      "text/plain": [
       "       0    1    2    3 petal_length\n",
       "0    5.1  3.5  1.4  0.2        small\n",
       "1    4.9  3.0  1.4  0.2        small\n",
       "2    4.7  3.2  1.3  0.2        small\n",
       "3    4.6  3.1  1.5  0.2        small\n",
       "4    5.0  3.6  1.4  0.2        small\n",
       "..   ...  ...  ...  ...          ...\n",
       "145  6.7  3.0  5.2  2.3        large\n",
       "146  6.3  2.5  5.0  1.9        large\n",
       "147  6.5  3.0  5.2  2.0        large\n",
       "148  6.2  3.4  5.4  2.3        large\n",
       "149  5.9  3.0  5.1  1.8        large\n",
       "\n",
       "[150 rows x 5 columns]"
      ]
     },
     "execution_count": 33,
     "metadata": {},
     "output_type": "execute_result"
    }
   ],
   "source": [
    "iris_2d = np.genfromtxt(url, delimiter=',', dtype='float', usecols=[0,1,2,3])\n",
    "df = pd.DataFrame(iris_2d)\n",
    "df.loc[df[2].between(0,3,'left'),'petal_length'] = 'small'\n",
    "df.loc[df[2].between(3,5,'left'),'petal_length'] = 'medium'\n",
    "df.loc[df[2].between(5,7,'left'),'petal_length'] = 'large'\n",
    "df"
   ]
  },
  {
   "cell_type": "markdown",
   "metadata": {
    "id": "IbBYP_8sSBrB"
   },
   "source": [
    "Q6 Write a Pandas function to find the most frequent value of petal length (3rd column) in iris dataset"
   ]
  },
  {
   "cell_type": "code",
   "execution_count": 34,
   "metadata": {
    "colab": {
     "base_uri": "https://localhost:8080/"
    },
    "id": "DNk_tlVWJufR",
    "outputId": "a378482c-9507-40f1-9409-e74ef257f06d"
   },
   "outputs": [
    {
     "data": {
      "text/plain": [
       "0    1.5\n",
       "Name: 2, dtype: float64"
      ]
     },
     "execution_count": 34,
     "metadata": {},
     "output_type": "execute_result"
    }
   ],
   "source": [
    "df[2].mode()"
   ]
  }
 ],
 "metadata": {
  "colab": {
   "provenance": []
  },
  "kernelspec": {
   "display_name": "Python 3 (ipykernel)",
   "language": "python",
   "name": "python3"
  },
  "language_info": {
   "codemirror_mode": {
    "name": "ipython",
    "version": 3
   },
   "file_extension": ".py",
   "mimetype": "text/x-python",
   "name": "python",
   "nbconvert_exporter": "python",
   "pygments_lexer": "ipython3",
   "version": "3.10.9"
  }
 },
 "nbformat": 4,
 "nbformat_minor": 1
}
=======
  "nbformat": 4,
  "nbformat_minor": 0,
  "metadata": {
    "colab": {
      "provenance": []
    },
    "kernelspec": {
      "name": "python3",
      "display_name": "Python 3"
    },
    "language_info": {
      "name": "python"
    }
  },
  "cells": [
    {
      "cell_type": "markdown",
      "source": [
        "Instructions for the assignment\n",
        "\n",
        "\n",
        "*   Fill the codeblocks according to the comments given\n",
        "*   Hints are given wherever required\n",
        "*   Please note that copying will not be tolerated, and appropriate action will be taken if we suspect any misconduct.\n",
        "*   You're welcome to utilize any online resources in case you feel stuck anywhere :-)\n",
        "\n",
        "\n",
        "\n",
        "\n",
        "\n",
        "\n",
        "\n"
      ],
      "metadata": {
        "id": "kIAcUXNYVeGR"
      }
    },
    {
      "cell_type": "markdown",
      "source": [
        "# Section A *(2 Marks each)*"
      ],
      "metadata": {
        "id": "UhXvUdK6Stt_"
      }
    },
    {
      "cell_type": "markdown",
      "source": [
        "## NumPy (Numerical Python)\n",
        "**bold text**\n",
        "### Multidimensional array object\n",
        "- Array is a grid of homogeneous elements which can be indexed in various ways \n",
        "- Different from Python list which can store different data types\n",
        "- NumPy stores multidimensional arrays as an instance of **ndarray** \n",
        "\n"
      ],
      "metadata": {
        "id": "oc77CrhjAGlR"
      }
    },
    {
      "cell_type": "code",
      "source": [
        "import numpy as np"
      ],
      "metadata": {
        "id": "WGtRigfyBpgb"
      },
      "execution_count": 2,
      "outputs": []
    },
    {
      "cell_type": "code",
      "execution_count": null,
      "metadata": {
        "id": "UR9ftRnU8_lu",
        "outputId": "6b9426d6-c5fa-4bf0-958b-736de37fa6d1",
        "colab": {
          "base_uri": "https://localhost:8080/"
        }
      },
      "outputs": [
        {
          "output_type": "stream",
          "name": "stdout",
          "text": [
            "[1, 2, 3, 4, 5]\n",
            "[[1 2 3]\n",
            " [4 5 6]\n",
            " [7 8 9]]\n"
          ]
        }
      ],
      "source": [
        "# Python list to initialize a one dimensional NumPy array of numbers 1 to 5 and then print it \n",
        "list=[1,2,3,4,5]\n",
        "p=np.array(list)\n",
        "print(list)\n",
        "\n",
        "# Python list to initialize a two dimensional NumPy array of shape [3,3] and then print it\n",
        "list_2d=np.array([[1,2,3],[4,5,6],[7,8,9]])\n",
        "print(list_2d) "
      ]
    },
    {
      "cell_type": "code",
      "source": [
        "# Write a NumPy function to create an array with random values of shape [3,4]\n",
        "def randoms(a,b):\n",
        "  return np.random.rand(a,b)\n",
        "\n",
        "r=randoms(3,4)\n",
        "print(r)\n",
        "# write a NumPy function to create an array with all elements initialized as zeros of shape [3,4]\n",
        "def zero(a,b):\n",
        "  return np.zeros((a,b))\n",
        "p=zero(3,4)\n",
        "print(p)\n",
        "# Write a NumPy function to create an array with all elements initialized as ones of shape [3,4]\n",
        "def inti_as_one(a,b,i):\n",
        " return  np.full((a,b),i)\n",
        "p=inti_as_one(3,3,1)\n",
        "print(p)"
      ],
      "metadata": {
        "id": "WZf-M7KnBkhu",
        "outputId": "6f87104f-48ae-4f13-ecfe-1e8676e830c5",
        "colab": {
          "base_uri": "https://localhost:8080/"
        }
      },
      "execution_count": 7,
      "outputs": [
        {
          "output_type": "stream",
          "name": "stdout",
          "text": [
            "[[0.61625833 0.23676914 0.09112502 0.54811057]\n",
            " [0.28316909 0.27399935 0.90539212 0.27328339]\n",
            " [0.34687705 0.12597381 0.23953489 0.04645401]]\n",
            "[[0. 0. 0. 0.]\n",
            " [0. 0. 0. 0.]\n",
            " [0. 0. 0. 0.]]\n",
            "[[1 1 1]\n",
            " [1 1 1]\n",
            " [1 1 1]]\n"
          ]
        }
      ]
    },
    {
      "cell_type": "code",
      "source": [
        "# Write a NumPy function to create an array containing a range of evenly spaced intervals\n",
        "# Hint : Use np.arange or np.linspace\n",
        "import numpy as np\n",
        "def evenly_spaced(int,end,interval) : \n",
        "  return np.linspace(int,end,interval)\n",
        "\n",
        "lsp=evenly_spaced(1,10,5)\n",
        "\n",
        "print(lsp)"
      ],
      "metadata": {
        "id": "Uagv5WtWBknb",
        "outputId": "eee96eb2-2c42-448c-b004-d372a4ceed52",
        "colab": {
          "base_uri": "https://localhost:8080/"
        }
      },
      "execution_count": null,
      "outputs": [
        {
          "output_type": "stream",
          "name": "stdout",
          "text": [
            "[ 1.    3.25  5.5   7.75 10.  ]\n"
          ]
        }
      ]
    },
    {
      "cell_type": "markdown",
      "source": [
        "### Basic array operations\n",
        "- algebraic operations \n",
        "- logical operations"
      ],
      "metadata": {
        "id": "dFeKiGA5CNXx"
      }
    },
    {
      "cell_type": "code",
      "source": [
        "a = np.array([[-4,6,8], [9, 3, 1], [1, 8, 5]])\n",
        "b = np.array([[11,16,18], [90, 37, 81], [61, 48, 75]])"
      ],
      "metadata": {
        "id": "mZbgCNnRDVbV"
      },
      "execution_count": null,
      "outputs": []
    },
    {
      "cell_type": "code",
      "source": [
        "# Write a NumPy function to add, subtract, multiply and divide arrays 'a' and 'b'\n",
        "\n",
        "A=np.add(a,b)\n",
        "B=np.subtract(a,b)\n",
        "C=np.multiply(a,b)\n",
        "D=np.divide(a,b)\n",
        "print(A)\n",
        "print(B)\n",
        "print(C)\n",
        "print(D)"
      ],
      "metadata": {
        "id": "QajfAkNHCMqe",
        "outputId": "8e44fa6f-cb5e-433a-d7cc-4fee4dc2ecf3",
        "colab": {
          "base_uri": "https://localhost:8080/"
        }
      },
      "execution_count": null,
      "outputs": [
        {
          "output_type": "stream",
          "name": "stdout",
          "text": [
            "[[ 7 22 26]\n",
            " [99 40 82]\n",
            " [62 56 80]]\n",
            "[[-15 -10 -10]\n",
            " [-81 -34 -80]\n",
            " [-60 -40 -70]]\n",
            "[[-44  96 144]\n",
            " [810 111  81]\n",
            " [ 61 384 375]]\n",
            "[[-0.36363636  0.375       0.44444444]\n",
            " [ 0.1         0.08108108  0.01234568]\n",
            " [ 0.01639344  0.16666667  0.06666667]]\n"
          ]
        }
      ]
    },
    {
      "cell_type": "code",
      "source": [
        "# Write a NumPy function to get the sum of the array 'a' along axis=0 \n",
        "def sum_along_axis(a,i) :\n",
        "  return np.sum(a,axis=i)\n",
        "sum=sum_along_axis(a,0)\n",
        "print(sum)\n",
        "\n",
        "# Write a NumPy function to get the sum of the array 'a' along axis=1 \n",
        "def sum_along_axis(a,i) :\n",
        "  return np.sum(a,axis=i)\n",
        "sum=sum_along_axis(a,1)\n",
        "print(sum)\n"
      ],
      "metadata": {
        "id": "hfBR7r80C_qh",
        "outputId": "824c8005-b2ee-40e1-ffbd-4a44cd6d7b77",
        "colab": {
          "base_uri": "https://localhost:8080/"
        }
      },
      "execution_count": null,
      "outputs": [
        {
          "output_type": "stream",
          "name": "stdout",
          "text": [
            "[ 6 17 14]\n",
            "[10 13 14]\n"
          ]
        }
      ]
    },
    {
      "cell_type": "code",
      "source": [
        "# Write a NumPy function to reverse the array 'a' \n",
        "def reversed(a): \n",
        "  return np.flip(a)\n",
        "reversed1=reversed(a)\n",
        "print(reversed1)\n",
        "# Write a NumPy function to reverse the array 'a' along axis=0\n",
        "def reversing_along_axis0(a,axis=0):\n",
        "  return np.flip(a,axis=0)\n",
        "  reversal0=reversing_along_axis0(a,axis=0)\n",
        "print(reversal0)\n",
        "# Write a NumPy function to reverse the array 'a' along axis=1\n",
        "def reversing_along_axis1(a,axis=1):\n",
        "  return np.flip(a,axis=1)\n",
        "  reversal1=reversing_along_axis1(a,axis=1)\n",
        "print(reversal1)\n"
      ],
      "metadata": {
        "id": "rBTxfTuFDSiA",
        "outputId": "e5cc15f2-bcae-4185-a5ef-b519f5fdca2e",
        "colab": {
          "base_uri": "https://localhost:8080/"
        }
      },
      "execution_count": null,
      "outputs": [
        {
          "output_type": "stream",
          "name": "stdout",
          "text": [
            "[[ 5  8  1]\n",
            " [ 1  3  9]\n",
            " [ 8  6 -4]]\n",
            "[[ 1  8  5]\n",
            " [ 9  3  1]\n",
            " [-4  6  8]]\n",
            "[[ 8  6 -4]\n",
            " [ 1  3  9]\n",
            " [ 5  8  1]]\n",
            "[[ 8  6 -4]\n",
            " [ 1  3  9]\n",
            " [ 5  8  1]]\n"
          ]
        }
      ]
    },
    {
      "cell_type": "markdown",
      "source": [
        "### Sorting and concatenation\n",
        "- sort arrays\n",
        "- join multiple arrays\n"
      ],
      "metadata": {
        "id": "WnCvXc3jCdWH"
      }
    },
    {
      "cell_type": "code",
      "source": [
        "a = np.array([[-4,6,8], [9, 3, 1], [1, 8, 5]])\n",
        "b = np.array([[11,16,18], [90, 37, 81], [61, 48, 75]])"
      ],
      "metadata": {
        "id": "Qsg-EPq7EbPx"
      },
      "execution_count": null,
      "outputs": []
    },
    {
      "cell_type": "code",
      "source": [
        "# Write a NumPy function to sort the array 'a' \n",
        "def sorting_array(arr):\n",
        "  return np.sort(arr)\n",
        "sorted=sorting_array(a)\n",
        "print(sorted)\n",
        "# Write a NumPy function to sort the array 'a' along axis=0\n",
        "def sorting_array(arr,axis):\n",
        "  return np.sort(arr,axis)\n",
        "sorted0=sorting_array(a,axis=0)\n",
        "print(sorted0)\n",
        "\n",
        "# Write a NumPy function to sort the array 'a' along axis=1\n",
        "def sorting_array_along_axis1(arr,axis):\n",
        "  return np.sort(arr,axis)\n",
        "sorted_along_axis1=sorting_array_along_axis1(a,axis=1)\n",
        "print(sorted)\n",
        "# Write a NumPy function to sort the array 'a' in descending order along axis=0\n",
        "sorted0=np.sort(a,axis=0)\n",
        "des=np.flip(sorted0,axis=0)\n",
        "print(des)\n",
        "sorted=np.sort(a)\n",
        "\n"
      ],
      "metadata": {
        "id": "_7VfP1anCc0O",
        "outputId": "47048285-b7af-4d80-ec0e-6945f69b85a9",
        "colab": {
          "base_uri": "https://localhost:8080/"
        }
      },
      "execution_count": null,
      "outputs": [
        {
          "output_type": "stream",
          "name": "stdout",
          "text": [
            "[[-4  6  8]\n",
            " [ 1  3  9]\n",
            " [ 1  5  8]]\n",
            "[[-4  3  1]\n",
            " [ 1  6  5]\n",
            " [ 9  8  8]]\n",
            "[[-4  6  8]\n",
            " [ 1  3  9]\n",
            " [ 1  5  8]]\n",
            "[[ 9  8  8]\n",
            " [ 1  6  5]\n",
            " [-4  3  1]]\n"
          ]
        }
      ]
    },
    {
      "cell_type": "code",
      "source": [
        "# Write a NumPy function to argsort the array along axis=0\n",
        "def argsort_along_axis0(a,axis):\n",
        "  return np.argsort(a,axis)\n",
        "arg=argsort_along_axis0(a,axis=0)\n",
        "print(arg)\n",
        "# Write a NumPy function to argsort the array along axis=1\n",
        "array=a\n",
        "def argsort_along_axis1(arr,axis):\n",
        "  return np.argsort(array,axis)\n",
        "arg1=argsort_along_axis1(array,axis=1)\n",
        "print(arg1)"
      ],
      "metadata": {
        "id": "6BqbtdLYEWng",
        "outputId": "9ffbaf64-0468-4c91-fc0e-cd58d7f83e1a",
        "colab": {
          "base_uri": "https://localhost:8080/"
        }
      },
      "execution_count": null,
      "outputs": [
        {
          "output_type": "stream",
          "name": "stdout",
          "text": [
            "[[0 1 1]\n",
            " [2 0 2]\n",
            " [1 2 0]]\n",
            "[[0 1 2]\n",
            " [2 1 0]\n",
            " [0 2 1]]\n"
          ]
        }
      ]
    },
    {
      "cell_type": "code",
      "source": [
        "# Write a NumPy function to concatenate the arrays 'a' and 'b'\n",
        "def concatenating(arr1,arr2):\n",
        "  return np.concatenate((arr1,arr2))\n",
        "  arr1=a\n",
        "  arr2=b\n",
        "con=concatenating(a,b)\n",
        "print(con)\n",
        "\n",
        "# Write a NumPy function to concatenate the arrays 'a' and 'b' along axis = 0\n",
        "def concatenating(arr1,arr2,axis):\n",
        "  return np.concatenate((arr1,arr2),axis)\n",
        "  arr1=a\n",
        "  arr2=b\n",
        "con0=concatenating(a,b,0)\n",
        "print(con0)\n",
        "\n",
        "\n",
        "# Note: You can do the same function using stacking, discover and try that :)\n",
        "con1=np.stack((a,b),axis=0)\n",
        "print(con1)"
      ],
      "metadata": {
        "id": "cixOoXZhEY8-",
        "colab": {
          "base_uri": "https://localhost:8080/"
        },
        "outputId": "89df3fb5-9eb4-43d1-c620-3e6d04d0acbf"
      },
      "execution_count": null,
      "outputs": [
        {
          "output_type": "stream",
          "name": "stdout",
          "text": [
            "[[-4  6  8]\n",
            " [ 9  3  1]\n",
            " [ 1  8  5]\n",
            " [11 16 18]\n",
            " [90 37 81]\n",
            " [61 48 75]]\n",
            "[[-4  6  8]\n",
            " [ 9  3  1]\n",
            " [ 1  8  5]\n",
            " [11 16 18]\n",
            " [90 37 81]\n",
            " [61 48 75]]\n",
            "[[[-4  6  8]\n",
            "  [ 9  3  1]\n",
            "  [ 1  8  5]]\n",
            "\n",
            " [[11 16 18]\n",
            "  [90 37 81]\n",
            "  [61 48 75]]]\n"
          ]
        }
      ]
    },
    {
      "cell_type": "markdown",
      "source": [
        "### Reshaping arrays\n",
        "- the number of dimensions of the array\n",
        "-  shape of n-dimensional array as a tuple with n elements s.t. $i^{th}$ element is the length of the $i^{th}$ dimension of the array\n",
        "- total number of elements of the array\n",
        "- reshapes the array\n",
        "- flattens multidimensional array into a 1D array\n",
        "- adds new dimensions to the array"
      ],
      "metadata": {
        "id": "aY0j33z2EjNx"
      }
    },
    {
      "cell_type": "code",
      "source": [
        "import numpy as np\n"
      ],
      "metadata": {
        "id": "A5UAg2goOgiq"
      },
      "execution_count": null,
      "outputs": []
    },
    {
      "cell_type": "code",
      "source": [
        "a = np.array([[4,6,8], [9, 3, 1], [1, 8, 5]])"
      ],
      "metadata": {
        "id": "sStUkoh1FG4N"
      },
      "execution_count": null,
      "outputs": []
    },
    {
      "cell_type": "code",
      "source": [
        "# Write a NumPy function to get the Number of dimensions\n",
        "import numpy as np\n",
        "\n",
        "def num_dimensions(arr):\n",
        "  return np.ndim(arr)\n",
        "\n",
        "Number = num_dimensions(a)\n",
        "print(Number)\n",
        "\n",
        "# Write a NumPy function to get the Shape of the array  \n",
        "def shapeofarray(array):\n",
        "  return np.shape(array)\n",
        "\n",
        "shap=shapeofarray(a)\n",
        "print(shap)\n",
        "# Write a NumPy function to get the Size of the array\n",
        "def sizeof(array):\n",
        "  return np.size(array)\n",
        "  \n",
        "arraysize=sizeof(a)\n",
        "print(arraysize)"
      ],
      "metadata": {
        "id": "vb35oi57Ev1f",
        "outputId": "279feb80-d45b-4a1a-89fe-8e9a1a14e1ad",
        "colab": {
          "base_uri": "https://localhost:8080/"
        }
      },
      "execution_count": null,
      "outputs": [
        {
          "output_type": "stream",
          "name": "stdout",
          "text": [
            "2\n",
            "(3, 3)\n",
            "9\n"
          ]
        }
      ]
    },
    {
      "cell_type": "code",
      "source": [
        "# Write a NumPy function to Reshape the array 'a' to the dimension (1,9)\n",
        "def reshaping(array,rows,columns):\n",
        "  return np.reshape(array,(rows,columns))\n",
        "\n",
        "reshaped_array=reshaping(a,1,9) \n",
        "\n",
        "print(reshaped_array)"
      ],
      "metadata": {
        "id": "MznU0NWKE54c",
        "outputId": "716409db-d2f7-48a8-dde1-186727cdd18f",
        "colab": {
          "base_uri": "https://localhost:8080/"
        }
      },
      "execution_count": null,
      "outputs": [
        {
          "output_type": "stream",
          "name": "stdout",
          "text": [
            "[[4 6 8 9 3 1 1 8 5]]\n"
          ]
        }
      ]
    },
    {
      "cell_type": "code",
      "source": [
        "# Write a NumPy function to add a new axis to the array 'a' \n",
        "def expansionof_dimension(array,axis):\n",
        "  return np.expand_dims(array,axis)\n",
        "\n",
        "print(\"by expansion \")\n",
        "array_with_new_axis=expansionof_dimension(a,axis=0)\n",
        "print(array_with_new_axis)\n",
        "\n",
        "print(\"by new axis method\")\n",
        "def expansion_by_new_axis(array):\n",
        "\n",
        " return a[np.newaxis,:]\n",
        "\n",
        "\n",
        "array_newaxis= expansion_by_new_axis(a)\n",
        "print(array_newaxis)\n",
        "# Note that Show atleast two different ways of doing this \n"
      ],
      "metadata": {
        "id": "p1dlxcNYE8tv",
        "colab": {
          "base_uri": "https://localhost:8080/"
        },
        "outputId": "bf783f66-c59d-48ec-a116-6ca9e7b0abab"
      },
      "execution_count": null,
      "outputs": [
        {
          "output_type": "stream",
          "name": "stdout",
          "text": [
            "by expansion \n",
            "[[[4 6 0]\n",
            "  [0 3 1]\n",
            "  [1 8 5]]]\n",
            "by new axis method\n",
            "[[[4 6 0]\n",
            "  [0 3 1]\n",
            "  [1 8 5]]]\n"
          ]
        }
      ]
    },
    {
      "cell_type": "markdown",
      "source": [
        "### Indexing and slicing\n",
        "- NumPy allows indexing array using tuple of nonnegative integers, booleans, array or integers"
      ],
      "metadata": {
        "id": "Ng4xWkwpFtao"
      }
    },
    {
      "cell_type": "code",
      "source": [
        "import numpy as np"
      ],
      "metadata": {
        "id": "w8PNiTmuoGyC"
      },
      "execution_count": null,
      "outputs": []
    },
    {
      "cell_type": "code",
      "source": [
        "a = np.array([[4,6,0], [0, 3, 1], [1, 8, 5]])"
      ],
      "metadata": {
        "id": "swrtOhPGGB7r"
      },
      "execution_count": null,
      "outputs": []
    },
    {
      "cell_type": "code",
      "source": [
        "#write a numpy function to indexing and sclicing the array like in python list.\n",
        "def indexing_by_int(a,i):\n",
        "  return  a[i]\n",
        "using_index= indexing_by_int(a,1)\n",
        "print(\"this is indexing by integer:\",using_index)\n",
        "\n",
        "def indexing_by_tuple(array,i,j):\n",
        " return array[i][j]\n",
        "using_tuple= indexing_by_tuple(a,1,2)\n",
        "print(\"by tuple:\",using_tuple)\n",
        "\n",
        "def indexing_by_slicing(array,i,j,k,l):\n",
        " return array[i:j, k:l]\n",
        "using_slicing= indexing_by_slicing(a,1,3,0,2)\n",
        "print(\" by sclicing:\",using_slicing)\n",
        "\n",
        "\n",
        "def index_array_by_range(arr, start, end):\n",
        "    return arr[start:end]\n",
        "result = index_array_by_range(a, 1, 3)\n",
        "print(\"indexing by range:\", result)\n",
        "\n",
        "#show it by indexing using integer,by tuple,and range\n"
      ],
      "metadata": {
        "colab": {
          "base_uri": "https://localhost:8080/"
        },
        "id": "sH89LqcEUkBo",
        "outputId": "a4ee8224-6960-41fd-b820-579801380355"
      },
      "execution_count": null,
      "outputs": [
        {
          "output_type": "stream",
          "name": "stdout",
          "text": [
            "this is indexing by integer: [0 3 1]\n",
            "by tuple: 1\n",
            " by sclicing: [[0 3]\n",
            " [1 8]]\n",
            "indexing by range: [[0 3 1]\n",
            " [1 8 5]]\n"
          ]
        }
      ]
    },
    {
      "cell_type": "code",
      "source": [
        "# Write a NumPy function to select values satisfying a specific condition like Values greater than 4 \n",
        "def greator_value_in(array):\n",
        "  return array[np.where(a>4)]\n",
        "\n",
        "vals=greator_value_in(a)\n",
        "print(vals)\n",
        "\n",
        "# Write a NumPy function to select values satisfying mulitple conditions like Values greater than 4 and divisible by 2\n",
        "def even_and_greatorthan4(array):\n",
        "  return array[np.where((array>4) & (array%2==0))]\n",
        "  \n",
        "vals2=even_and_greatorthan4(a)\n",
        "print(vals2)\n"
      ],
      "metadata": {
        "id": "Xn2_z5h-Fmrd",
        "colab": {
          "base_uri": "https://localhost:8080/"
        },
        "outputId": "210e1c5b-7be6-4448-9af5-4141b053e530"
      },
      "execution_count": null,
      "outputs": [
        {
          "output_type": "stream",
          "name": "stdout",
          "text": [
            "[6 8 9 8 5]\n",
            "[6 8 8]\n"
          ]
        }
      ]
    },
    {
      "cell_type": "markdown",
      "source": [
        "### Copying arrays\n",
        "- new array object with a copy of the data\n",
        "- Changes made in the copy array is not reflected in the original array"
      ],
      "metadata": {
        "id": "GWU0EfaAG2ll"
      }
    },
    {
      "cell_type": "code",
      "source": [
        "a = np.array([[4,6,0], [0, 3, 1], [1, 8, 5]])"
      ],
      "metadata": {
        "id": "ijdgy02lHMJW"
      },
      "execution_count": null,
      "outputs": []
    },
    {
      "cell_type": "code",
      "source": [
        "# Write a NumPy function to copy the array 'a' and finally print an array where all elements are increased by 1\n",
        "def arr(array,i):\n",
        "  return np.empty_like(a) + i\n",
        "  a1=arr(a,1)\n",
        "  \n",
        "  print(a1)"
      ],
      "metadata": {
        "id": "FmgUdh66GuQH"
      },
      "execution_count": null,
      "outputs": []
    },
    {
      "cell_type": "markdown",
      "source": [
        "## Pandas ( Python Data Analysis Library)\n",
        "\n",
        "### Main Features\n",
        "- Easy handling of missing data in both floating point and non-floating point data.\n",
        "- Automatic and explicit data alignment, making it easy to perform computations and transformations on data sets.\n",
        "\n"
      ],
      "metadata": {
        "id": "M1KLD5QxHsVw"
      }
    },
    {
      "cell_type": "markdown",
      "source": [
        "#### Generating the dataset "
      ],
      "metadata": {
        "id": "v1CuU3FeIq1a"
      }
    },
    {
      "cell_type": "markdown",
      "source": [
        "Run the following load command to get the 2-Dim iris dataset. Do the following operations on it and please dont edit this cell"
      ],
      "metadata": {
        "id": "fp36ZqOMIy7k"
      }
    },
    {
      "cell_type": "code",
      "source": [
        "import numpy as np"
      ],
      "metadata": {
        "id": "Yn82xAuta8Km"
      },
      "execution_count": null,
      "outputs": []
    },
    {
      "cell_type": "markdown",
      "source": [],
      "metadata": {
        "id": "BSC6Nlk8UAG0"
      }
    },
    {
      "cell_type": "code",
      "source": [
        "url = 'https://archive.ics.uci.edu/ml/machine-learning-databases/iris/iris.data'\n",
        "iris_2d = np.genfromtxt(url, delimiter=',', dtype='float', usecols=[0,1,2,3])"
      ],
      "metadata": {
        "id": "A_O5RTBXIyK-"
      },
      "execution_count": null,
      "outputs": []
    },
    {
      "cell_type": "markdown",
      "source": [
        "#### Basic Data Analysis"
      ],
      "metadata": {
        "id": "EILb6pPrS8Ju"
      }
    },
    {
      "cell_type": "code",
      "source": [
        "import pandas as pd"
      ],
      "metadata": {
        "id": "WEKY0H9WiePn"
      },
      "execution_count": null,
      "outputs": []
    },
    {
      "cell_type": "code",
      "source": [
        "# Write a Pandas function to drop rows that contain a missing value.\n",
        "def func(arr):\n",
        "  return arr.dropna()\n",
        "\n",
        "df=pd.DataFrame(iris_2d)\n",
        "k=func(df)\n",
        "print(k)"
      ],
      "metadata": {
        "id": "bViO1LLoI7sz",
        "colab": {
          "base_uri": "https://localhost:8080/"
        },
        "outputId": "2825af41-1172-456d-b3ce-4d254775d9f5"
      },
      "execution_count": null,
      "outputs": [
        {
          "output_type": "stream",
          "name": "stdout",
          "text": [
            "       0    1    2    3\n",
            "0    5.1  3.5  1.4  0.2\n",
            "1    4.9  3.0  1.4  0.2\n",
            "2    4.7  3.2  1.3  0.2\n",
            "3    4.6  3.1  1.5  0.2\n",
            "4    5.0  3.6  1.4  0.2\n",
            "..   ...  ...  ...  ...\n",
            "145  6.7  3.0  5.2  2.3\n",
            "146  6.3  2.5  5.0  1.9\n",
            "147  6.5  3.0  5.2  2.0\n",
            "148  6.2  3.4  5.4  2.3\n",
            "149  5.9  3.0  5.1  1.8\n",
            "\n",
            "[150 rows x 4 columns]\n"
          ]
        }
      ]
    },
    {
      "cell_type": "code",
      "source": [
        "# Write a Pandas function to find the correlation between the first two columns.\n",
        "df[0].corr(df[1])\n"
      ],
      "metadata": {
        "id": "zp_BYv5EJDjJ",
        "colab": {
          "base_uri": "https://localhost:8080/"
        },
        "outputId": "58d38aae-c605-4c02-edb6-9eecea523aa2"
      },
      "execution_count": null,
      "outputs": [
        {
          "output_type": "execute_result",
          "data": {
            "text/plain": [
              "-0.10936924995064937"
            ]
          },
          "metadata": {},
          "execution_count": 14
        }
      ]
    },
    {
      "cell_type": "code",
      "source": [
        "# Write a Pandas function to find the mean, median and standard deviation of column 3.\n",
        "import numpy as np\n",
        "import pandas as pd\n",
        "\n",
        "url = 'https://archive.ics.uci.edu/ml/machine-learning-databases/iris/iris.data'\n",
        "iris_2d = np.genfromtxt(url, delimiter=',', dtype='float', usecols=[0, 1, 2, 3])\n",
        "\n",
        "\n",
        "df = pd.DataFrame(iris_2d, columns=['sepallength', 'sepalwidth', 'petallength', 'petalwidth'])\n",
        "\n",
        "\n",
        "def calculate_mean(data):\n",
        "    return data.mean()\n",
        "\n",
        "def calculate_median(data):\n",
        "    return data.median()\n",
        "\n",
        "def calculate_std_dev(data):\n",
        "    return data.std()\n",
        "\n",
        "\n",
        "mean = calculate_mean(df['petallength'])\n",
        "median = calculate_median(df['petallength'])\n",
        "std_dev = calculate_std_dev(df['petallength'])\n",
        "\n",
        "print(\"Mean:\", mean)\n",
        "print(\"Median:\", median)\n",
        "print(\"Standard Deviation:\", std_dev)\n",
        "\n"
      ],
      "metadata": {
        "id": "0mjeoZCwJDoW",
        "colab": {
          "base_uri": "https://localhost:8080/"
        },
        "outputId": "6e5d593e-3143-4c4b-8b8b-8c7431f5b6d9"
      },
      "execution_count": null,
      "outputs": [
        {
          "output_type": "stream",
          "name": "stdout",
          "text": [
            "Mean: 3.758666666666666\n",
            "Median: 4.35\n",
            "Standard Deviation: 1.7644204199522626\n"
          ]
        }
      ]
    },
    {
      "cell_type": "code",
      "source": [
        "# Write a Pandas function to create a new column for volume in iris_2d, where volume is (pi x petallength x sepal_length^2)/3\n",
        "# Hints: \n",
        "# 1. Introduce new dimension to match iris_2d's\n",
        "# 2. Add the new column\n",
        "import pandas as pd\n",
        "import numpy as np\n",
        "from math import pi\n",
        "\n",
        "def add_volume_column(data):\n",
        "   volume = (pi * data['petallength'] * data['sepallength']**2) / 3\n",
        "\n",
        "   data['volume'] = volume\n",
        "   return data\n",
        "url = 'https://archive.ics.uci.edu/ml/machine-learning-databases/iris/iris.data'\n",
        "iris_2d = pd.read_csv(url, header=None, names=['sepallength', 'sepalwidth', 'petallength', 'petalwidth', 'species'])\n",
        "\n",
        "iris_2d_with_volume = add_volume_column(iris_2d)\n",
        "\n",
        "print(iris_2d_with_volume)"
      ],
      "metadata": {
        "id": "bRiYEhWTJDrM",
        "colab": {
          "base_uri": "https://localhost:8080/"
        },
        "outputId": "16f557f8-7157-4811-d3f7-a2f560178783"
      },
      "execution_count": null,
      "outputs": [
        {
          "output_type": "stream",
          "name": "stdout",
          "text": [
            "     sepallength  sepalwidth  petallength  petalwidth         species  \\\n",
            "0            5.1         3.5          1.4         0.2     Iris-setosa   \n",
            "1            4.9         3.0          1.4         0.2     Iris-setosa   \n",
            "2            4.7         3.2          1.3         0.2     Iris-setosa   \n",
            "3            4.6         3.1          1.5         0.2     Iris-setosa   \n",
            "4            5.0         3.6          1.4         0.2     Iris-setosa   \n",
            "..           ...         ...          ...         ...             ...   \n",
            "145          6.7         3.0          5.2         2.3  Iris-virginica   \n",
            "146          6.3         2.5          5.0         1.9  Iris-virginica   \n",
            "147          6.5         3.0          5.2         2.0  Iris-virginica   \n",
            "148          6.2         3.4          5.4         2.3  Iris-virginica   \n",
            "149          5.9         3.0          5.1         1.8  Iris-virginica   \n",
            "\n",
            "         volume  \n",
            "0     38.132652  \n",
            "1     35.200498  \n",
            "2     30.072372  \n",
            "3     33.238050  \n",
            "4     36.651914  \n",
            "..          ...  \n",
            "145  244.445230  \n",
            "146  207.816354  \n",
            "147  230.069302  \n",
            "148  217.373079  \n",
            "149  185.910028  \n",
            "\n",
            "[150 rows x 6 columns]\n"
          ]
        }
      ]
    },
    {
      "cell_type": "markdown",
      "source": [
        "# Section B *(2 Marks each)*"
      ],
      "metadata": {
        "id": "dGqrG93ELEQ3"
      }
    },
    {
      "cell_type": "markdown",
      "source": [
        "###NumPy"
      ],
      "metadata": {
        "id": "OLm8jv7tMH6h"
      }
    },
    {
      "cell_type": "markdown",
      "source": [
        "Q1 Let x = np.arange(4, dtype=np.int64). Create an array of ones with the same shape and type as X."
      ],
      "metadata": {
        "id": "zE1n0x7ZLRLU"
      }
    },
    {
      "cell_type": "code",
      "source": [
        "y=np.arange(1,5,dtype=np.int64)\n",
        "print(y)"
      ],
      "metadata": {
        "id": "H8o9C6b7LJzA",
        "colab": {
          "base_uri": "https://localhost:8080/"
        },
        "outputId": "69e6cfbe-b463-49ed-cd38-fa579e7fdca3"
      },
      "execution_count": null,
      "outputs": [
        {
          "output_type": "stream",
          "name": "stdout",
          "text": [
            "[1 2 3 4]\n"
          ]
        }
      ]
    },
    {
      "cell_type": "markdown",
      "source": [
        "Q2 Let x be an array [1, 2, 3, ..., 9]. Split x into 3 arrays, each of which has 4, 2, and 3 elements in the original order."
      ],
      "metadata": {
        "id": "PPYeTqoHLSNj"
      }
    },
    {
      "cell_type": "code",
      "source": [
        "x=np.arange(1,10)\n",
        "y=x[0:4]\n",
        "z=x[4:6]\n",
        "a=x[6:9]\n",
        "x=[y,z,a]\n",
        "print(x)"
      ],
      "metadata": {
        "id": "DS9mr30LLYdg",
        "colab": {
          "base_uri": "https://localhost:8080/"
        },
        "outputId": "1756ef0f-0a04-4df5-b881-aa22321400ed"
      },
      "execution_count": null,
      "outputs": [
        {
          "output_type": "stream",
          "name": "stdout",
          "text": [
            "[array([1, 2, 3, 4]), array([5, 6]), array([7, 8, 9])]\n"
          ]
        }
      ]
    },
    {
      "cell_type": "markdown",
      "source": [
        "Q3 Initiate x as a 2x5 array with random values from 0 to 10(not inclusive).Get the maximum and minimum values and their indices of x along the second axis."
      ],
      "metadata": {
        "id": "b1wJaooRLXjN"
      }
    },
    {
      "cell_type": "code",
      "source": [
        "array=np.random.rand(2,5)*10\n",
        "print(\"Array is:\",array)\n",
        "\n",
        "def max_value(x):\n",
        "  return np.amax(x,axis=1)\n",
        "A=max_value(array)\n",
        "def min_value(x):\n",
        "  return np.amin(x,axis=1)\n",
        "B=min_value(array)\n",
        "def max_indices(x):\n",
        "  return np.argmax(x,axis=1)\n",
        "C=max_indices(array)\n",
        "def min_indices(x):\n",
        "  return np.argmin(x,axis=1)\n",
        "D=min_indices(array)\n",
        "print(A)\n",
        "print(B)\n",
        "print(C)\n",
        "print(D)"
      ],
      "metadata": {
        "id": "GnXDqksjLf89",
        "colab": {
          "base_uri": "https://localhost:8080/"
        },
        "outputId": "8a0b270e-a134-489f-e14f-3ebd55d34f6f"
      },
      "execution_count": null,
      "outputs": [
        {
          "output_type": "stream",
          "name": "stdout",
          "text": [
            "Array is: [[3.15995752 3.3450931  1.60489283 2.13685289 1.21362363]\n",
            " [4.25737583 8.37000817 0.89396868 9.38034001 1.46282762]]\n",
            "[3.3450931  9.38034001]\n",
            "[1.21362363 0.89396868]\n",
            "[1 3]\n",
            "[4 2]\n"
          ]
        }
      ]
    },
    {
      "cell_type": "markdown",
      "source": [
        "### Pandas"
      ],
      "metadata": {
        "id": "8_Q7fbyxMMHM"
      }
    },
    {
      "cell_type": "markdown",
      "source": [
        "Run the following load command and solve the following questions"
      ],
      "metadata": {
        "id": "3QpaFHkxJUho"
      }
    },
    {
      "cell_type": "code",
      "source": [
        "url = 'https://archive.ics.uci.edu/ml/machine-learning-databases/iris/iris.data'\n",
        "iris = np.genfromtxt(url, delimiter=',', dtype='object')\n",
        "names = ('sepallength', 'sepalwidth', 'petallength', 'petalwidth', 'species')"
      ],
      "metadata": {
        "id": "mLdcY49iJDtl"
      },
      "execution_count": null,
      "outputs": []
    },
    {
      "cell_type": "markdown",
      "source": [
        "Q4 Write a Pandas function to find the count of unique species."
      ],
      "metadata": {
        "id": "zbDepnx9RtV8"
      }
    },
    {
      "cell_type": "code",
      "source": [
        "dp=pd.DataFrame(iris)\n",
        "unique_speices=dp.nunique()\n",
        "\n",
        "print(unique_speices)"
      ],
      "metadata": {
        "id": "oAkO0UnqJDv7",
        "colab": {
          "base_uri": "https://localhost:8080/"
        },
        "outputId": "deeddaac-f3ba-46a6-af16-1f6ff597987c"
      },
      "execution_count": null,
      "outputs": [
        {
          "output_type": "stream",
          "name": "stdout",
          "text": [
            "0    35\n",
            "1    23\n",
            "2    43\n",
            "3    22\n",
            "4     3\n",
            "dtype: int64\n"
          ]
        }
      ]
    },
    {
      "cell_type": "markdown",
      "source": [
        "# Q5 Write a Pandas function to bin the petal length (3rd) column of iris_2d to form a text array, such that if petal length is:\n",
        "- Less than 3 –> ‘small’\n",
        "- 3-5 –> ‘medium’\n",
        "- greater than equal to 5 –> ‘large’"
      ],
      "metadata": {
        "id": "Usj5HlvyRxal"
      }
    },
    {
      "cell_type": "code",
      "source": [
        "import numpy as np\n",
        "import pandas as pd\n",
        "\n",
        "url = 'https://archive.ics.uci.edu/ml/machine-learning-databases/iris/iris.data'\n",
        "iris_2d = np.genfromtxt(url, delimiter=',', dtype='float', usecols=[0,1,2,3])\n",
        "\n",
        "# Creating a DataFrame from the iris_2d array\n",
        "df = pd.DataFrame(iris_2d, columns=['sepallength', 'sepalwidth', 'petallength', 'petalwidth'])\n",
        "\n",
        "# Binning the petal length column\n",
        "bins = [0, 3, 5, np.inf]\n",
        "labels = ['small', 'medium', 'large']\n",
        "df['petal_length_category'] = pd.cut(df['petallength'], bins=bins, labels=labels)\n",
        "\n",
        "# Getting the resulting text array\n",
        "result_array = df['petal_length_category'].values\n",
        "\n",
        "print(result_array)\n"
      ],
      "metadata": {
        "id": "gTWWJoLMJDxx",
        "colab": {
          "base_uri": "https://localhost:8080/"
        },
        "outputId": "753e3e42-19aa-4d54-bbe8-76a5801c7e9b"
      },
      "execution_count": null,
      "outputs": [
        {
          "output_type": "stream",
          "name": "stdout",
          "text": [
            "['small', 'small', 'small', 'small', 'small', ..., 'large', 'medium', 'large', 'large', 'large']\n",
            "Length: 150\n",
            "Categories (3, object): ['small' < 'medium' < 'large']\n"
          ]
        }
      ]
    },
    {
      "cell_type": "markdown",
      "source": [
        "Q6 Write a Pandas function to find the most frequent value of petal length (3rd column) in iris dataset"
      ],
      "metadata": {
        "id": "IbBYP_8sSBrB"
      }
    },
    {
      "cell_type": "code",
      "source": [
        "import numpy as np\n",
        "import pandas as pd\n",
        "\n",
        "url = 'https://archive.ics.uci.edu/ml/machine-learning-databases/iris/iris.data'\n",
        "iris = np.genfromtxt(url, delimiter=',', dtype='object')\n",
        "names = ('sepallength', 'sepalwidth', 'petallength', 'petalwidth', 'species')\n",
        "\n",
        "# Creating a DataFrame from the iris array\n",
        "df = pd.DataFrame(iris, columns=names)\n",
        "\n",
        "# Cleaning the petal length column\n",
        "df['petallength'] = df['petallength'].str.decode('utf-8').str.strip()\n",
        "\n",
        "# Finding the most frequent value of petal length\n",
        "most_frequent_petal_length = df['petallength'].value_counts().idxmax()\n",
        "\n",
        "print(\"Most frequent value of petal length:\", most_frequent_petal_length)\n"
      ],
      "metadata": {
        "id": "DNk_tlVWJufR",
        "colab": {
          "base_uri": "https://localhost:8080/"
        },
        "outputId": "6572cd03-6177-4636-c91b-55790197be7b"
      },
      "execution_count": null,
      "outputs": [
        {
          "output_type": "stream",
          "name": "stdout",
          "text": [
            "Most frequent value of petal length: 1.5\n"
          ]
        }
      ]
    }
  ]
}
 main
